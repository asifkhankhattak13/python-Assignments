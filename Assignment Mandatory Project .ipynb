{
 "cells": [
  {
   "cell_type": "code",
   "execution_count": 7,
   "id": "717b9062-6e2c-471e-b5a6-7f802f2543fc",
   "metadata": {},
   "outputs": [
    {
     "name": "stdout",
     "output_type": "stream",
     "text": [
      "Account created: {'name': 'John Doe', 'balance': 0.0, 'transactions': []}\n",
      "$500 deposited. New Balance: $500.00\n",
      "$200 withdrawn. New Balance: $300.00\n",
      "Current Balance: $300.00\n",
      "Account statement for John Doe:\n",
      "Deposit: $500. New Balance: $500.00\n",
      "Withdrawal: $200. New Balance: $300.00\n"
     ]
    }
   ],
   "source": [
    "def create_account(name, initial_balance=0.0):\n",
    "    return {\n",
    "        \"name\": name,\n",
    "        \"balance\": initial_balance,\n",
    "        \"transactions\": []\n",
    "    }\n",
    "def deposit(account, amount):\n",
    "    if amount <= 0:\n",
    "        return \"Deposit amount must be positive.\"\n",
    "    account[\"balance\"] += amount\n",
    "    account[\"transactions\"].append(f\"Deposit: ${amount}. New Balance: ${account['balance']:.2f}\")\n",
    "    return f\"${amount} deposited. New Balance: ${account['balance']:.2f}\"\n",
    "def withdraw(account, amount):\n",
    "    if amount <= 0:\n",
    "        return \"Withdrawal amount must be positive.\"\n",
    "    if amount > account[\"balance\"]:\n",
    "        return \"Insufficient balance for withdrawal.\"\n",
    "    account[\"balance\"] -= amount\n",
    "    account[\"transactions\"].append(f\"Withdrawal: ${amount}. New Balance: ${account['balance']:.2f}\")\n",
    "    return f\"${amount} withdrawn. New Balance: ${account['balance']:.2f}\"\n",
    "def check_balance(account):\n",
    "    return f\"Current Balance: ${account['balance']:.2f}\"\n",
    "def print_statement(account):\n",
    "    if not account[\"transactions\"]:\n",
    "        return \"No transactions available.\"\n",
    "    statement = f\"Account statement for {account['name']}:\\n\"\n",
    "    statement += \"\\n\".join(account[\"transactions\"])\n",
    "    return statement\n",
    "if __name__ == \"__main__\":\n",
    "    account = create_account(\"John Doe\")\n",
    "    print(\"Account created:\", account)\n",
    "    print(deposit(account, 500))\n",
    "    print(withdraw(account, 200))\n",
    "    print(check_balance(account))\n",
    "    print(print_statement(account))\n"
   ]
  },
  {
   "cell_type": "code",
   "execution_count": null,
   "id": "0afc9e63-6562-4f18-98da-afd01ee55416",
   "metadata": {},
   "outputs": [],
   "source": []
  }
 ],
 "metadata": {
  "kernelspec": {
   "display_name": "Python 3 (ipykernel)",
   "language": "python",
   "name": "python3"
  },
  "language_info": {
   "codemirror_mode": {
    "name": "ipython",
    "version": 3
   },
   "file_extension": ".py",
   "mimetype": "text/x-python",
   "name": "python",
   "nbconvert_exporter": "python",
   "pygments_lexer": "ipython3",
   "version": "3.12.7"
  }
 },
 "nbformat": 4,
 "nbformat_minor": 5
}
