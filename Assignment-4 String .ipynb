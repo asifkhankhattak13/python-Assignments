{
 "cells": [
  {
   "cell_type": "markdown",
   "id": "6d596da8-ccd8-46f9-9a36-1ee0bc8d8b2c",
   "metadata": {},
   "source": [
    "## Strings Assignments"
   ]
  },
  {
   "cell_type": "markdown",
   "id": "24e07ed8-f2d9-4e24-be9d-0ea7032788f4",
   "metadata": {},
   "source": [
    "1. Write a program that accepts a string from user. Your program should count and display number of\n",
    "vowels in that string."
   ]
  },
  {
   "cell_type": "code",
   "execution_count": 3,
   "id": "6b53a6e6-c4bc-407a-846e-40fc06dfe5f2",
   "metadata": {},
   "outputs": [
    {
     "name": "stdin",
     "output_type": "stream",
     "text": [
      " write a word :   asif\n"
     ]
    },
    {
     "name": "stdout",
     "output_type": "stream",
     "text": [
      " the number of vowel 2\n"
     ]
    }
   ],
   "source": [
    "string = input(' write a word :  ')\n",
    "vowel_count= 0\n",
    "for char in (string):\n",
    "    if char in 'aeiou':\n",
    "        vowel_count += 1\n",
    "print(f' the number of vowel {vowel_count}')\n"
   ]
  },
  {
   "cell_type": "code",
   "execution_count": 23,
   "id": "54355035-133d-4d74-8406-50c9fdb027e4",
   "metadata": {},
   "outputs": [
    {
     "name": "stdin",
     "output_type": "stream",
     "text": [
      "write word: asif\n"
     ]
    },
    {
     "name": "stdout",
     "output_type": "stream",
     "text": [
      " the number of vowels  2 \n"
     ]
    }
   ],
   "source": [
    "string = input('write word:')\n",
    "vowel_count= 0\n",
    "for char in (string):\n",
    "    if char in 'aeiou':\n",
    "        vowel_count += 1\n",
    "print(f' the number of vowels  {vowel_count} ')"
   ]
  },
  {
   "cell_type": "markdown",
   "id": "70472dc1-2853-4f1e-89fa-45d650cb69be",
   "metadata": {},
   "source": [
    "2. Write a program that reads a string from keyboard and display:\n",
    "* The number of uppercase letters in the string\n",
    "* The number of lowercase letters in the string\n",
    "* The number of digits in the string\n",
    "* The number of whitespace characters in the string"
   ]
  },
  {
   "cell_type": "code",
   "execution_count": 5,
   "id": "de592efa-4a8d-49b2-93aa-57aafb70a3b0",
   "metadata": {},
   "outputs": [
    {
     "name": "stdin",
     "output_type": "stream",
     "text": [
      "Enter a string:  khan\n"
     ]
    },
    {
     "name": "stdout",
     "output_type": "stream",
     "text": [
      "Number of uppercase letters: 0\n",
      "Number of lowercase letters: 4\n",
      "Number of digits: 0\n",
      "Number of whitespace characters: 0\n"
     ]
    }
   ],
   "source": [
    "string = input(\"Enter a string: \")\n",
    "uppercase_count = 0\n",
    "lowercase_count = 0\n",
    "digit_count = 0\n",
    "whitespace_count = 0\n",
    "for char in string:\n",
    "    if char .isupper():\n",
    "        uppercase_count += 1\n",
    "    elif char .islower():\n",
    "        lowercase_count += 1\n",
    "    elif char.isdigit():\n",
    "        digit_count += 1\n",
    "    elif char.isspace():\n",
    "        whitespace_count += 1\n",
    "print(f\"Number of uppercase letters: {uppercase_count}\")\n",
    "print(f\"Number of lowercase letters: {lowercase_count}\")\n",
    "print(f\"Number of digits: {digit_count}\")\n",
    "print(f\"Number of whitespace characters: {whitespace_count}\")\n"
   ]
  },
  {
   "cell_type": "markdown",
   "id": "951af556-65bd-4e6b-9489-c9f8b9e4e198",
   "metadata": {},
   "source": [
    "3. Write a Python program that accepts a string from user. Your program should create and display a\n",
    "new string where the first and last characters have been exchanged.\n",
    "For example if the user enters the string 'HELLO' then new string would be 'OELLH'"
   ]
  },
  {
   "cell_type": "code",
   "execution_count": 41,
   "id": "eaed1c8f-fed8-4b01-91d4-35d8c49379b7",
   "metadata": {},
   "outputs": [
    {
     "name": "stdin",
     "output_type": "stream",
     "text": [
      "Enter a string:  asif\n"
     ]
    },
    {
     "name": "stdout",
     "output_type": "stream",
     "text": [
      "fisa\n"
     ]
    }
   ],
   "source": [
    "string = input(\"Enter a string: \")\n",
    "if len(string) > 1:\n",
    "    new_string = string[::-1] \n",
    "else:\n",
    "    new_string = string\n",
    "print (new_string)\n",
    "\n"
   ]
  },
  {
   "cell_type": "markdown",
   "id": "16584151-d4ac-4268-97ed-0c87756948f1",
   "metadata": {},
   "source": [
    "4. Write a Python program that accepts a string from user. Your program should create a new string in\n",
    "reverse of first string and display it.\n",
    "For example if the user enters the string 'EXAM' then new string would be 'MAXE'"
   ]
  },
  {
   "cell_type": "code",
   "execution_count": 43,
   "id": "3adcc245-de49-4b2d-aa3c-eaf730f064ff",
   "metadata": {},
   "outputs": [
    {
     "name": "stdin",
     "output_type": "stream",
     "text": [
      "Enter a string:  EXAM\n"
     ]
    },
    {
     "name": "stdout",
     "output_type": "stream",
     "text": [
      "MAXE\n"
     ]
    }
   ],
   "source": [
    "string = input(\"Enter a string: \")\n",
    "if len(string) > 1:\n",
    "    new_string = string[::-1] \n",
    "else:\n",
    "    new_string = string\n",
    "print (new_string)\n"
   ]
  },
  {
   "cell_type": "markdown",
   "id": "a87945ac-3767-4d8c-83f5-ff04c277900f",
   "metadata": {},
   "source": [
    "5. Write a Python program that accepts a string from user. Your program should create a new string by\n",
    "shifting one position to left.\n",
    "For example if the user enters the string 'examination 2021' then new string would be 'xamination\n",
    "2021e'"
   ]
  },
  {
   "cell_type": "code",
   "execution_count": 45,
   "id": "660843dc-a4d0-414e-976f-5b9672d97e23",
   "metadata": {},
   "outputs": [
    {
     "name": "stdin",
     "output_type": "stream",
     "text": [
      "Enter a string:  asif 2021\n"
     ]
    },
    {
     "name": "stdout",
     "output_type": "stream",
     "text": [
      "sif 2021a\n"
     ]
    }
   ],
   "source": [
    "string = input(\"Enter a string: \")\n",
    "if len(string) > 1:\n",
    "    new_string = string[1:] + string[0]\n",
    "else:\n",
    "    new_string = string\n",
    "print (new_string)"
   ]
  },
  {
   "cell_type": "markdown",
   "id": "30404f25-9324-448a-a5c7-70d16738052f",
   "metadata": {},
   "source": [
    "6. Write a program that asks the user to input his name and print its initials. Assuming that the user\n",
    "always types first name, middle name and last name and does not include any unnecessary spaces.\n",
    "For example, if the user enters Ajay Kumar Garg the program should display A. K. G.\n",
    "Note:Don't use split() method"
   ]
  },
  {
   "cell_type": "code",
   "execution_count": 47,
   "id": "0c55469d-93db-4845-a517-67664fdf01b2",
   "metadata": {},
   "outputs": [
    {
     "name": "stdin",
     "output_type": "stream",
     "text": [
      "Enter your full name:  asif khattak\n"
     ]
    },
    {
     "name": "stdout",
     "output_type": "stream",
     "text": [
      "The initials are: A. K.\n"
     ]
    }
   ],
   "source": [
    "full_name = input(\"Enter your full name: \")\n",
    "initials = \"\"\n",
    "for i in range(len(full_name)):\n",
    "      if i == 0 or full_name[i-1] == ' ':\n",
    "           if full_name[i] != ' ':\n",
    "               initials += full_name[i].upper() + '. '\n",
    "print(\"The initials are:\", initials.strip())"
   ]
  },
  {
   "cell_type": "markdown",
   "id": "a542bd99-4412-41ee-ad47-34a9221b2190",
   "metadata": {},
   "source": [
    "7. A palindrome is a string that reads the same backward as forward. For example, the words dad,\n",
    "madam and radar are all palindromes. Write a programs that determines whether the string is a\n",
    "palindrome.\n",
    "Note: do not use reverse() method"
   ]
  },
  {
   "cell_type": "code",
   "execution_count": 51,
   "id": "9ebc7e00-d9a2-4316-98e4-bc2f972e5bad",
   "metadata": {},
   "outputs": [
    {
     "name": "stdin",
     "output_type": "stream",
     "text": [
      "Enter a string:  asif\n"
     ]
    },
    {
     "name": "stdout",
     "output_type": "stream",
     "text": [
      "The string 'asif' is not a palindrome.\n"
     ]
    }
   ],
   "source": [
    "string = input(\"Enter a string: \")\n",
    "is_palindrome = True\n",
    "for i in range(len(string) // 2):\n",
    "    if string[i] != string[-(i+1)]:\n",
    "        is_palindrome = False\n",
    "        break\n",
    "if is_palindrome:\n",
    "    print(f\"The string '{string}' is a palindrome.\")\n",
    "else:\n",
    "    print(f\"The string '{string}' is not a palindrome.\")"
   ]
  },
  {
   "cell_type": "markdown",
   "id": "119f06cd-ea9b-4256-984b-cda58971c255",
   "metadata": {},
   "source": [
    "8. Write a program that display following output:\n",
    "SHIFT\n",
    "HIFTS\n",
    "IFTSH\n",
    "FTSHI\n",
    "TSHIF\n",
    "SHIFT"
   ]
  },
  {
   "cell_type": "code",
   "execution_count": 53,
   "id": "b33b80fd-5cbf-4f57-96fe-50f399e2c1a4",
   "metadata": {},
   "outputs": [
    {
     "name": "stdout",
     "output_type": "stream",
     "text": [
      "SHIFT\n",
      "HIFTS\n",
      "IFTSH\n",
      "FTSHI\n",
      "TSHIF\n"
     ]
    }
   ],
   "source": [
    "text = \"SHIFT\"\n",
    "for i in range(len(text)):\n",
    "    print(text[i:] + text[:i])"
   ]
  },
  {
   "cell_type": "markdown",
   "id": "42a41e09-d147-4704-b751-9691177a0f05",
   "metadata": {},
   "source": [
    "9. Write a program in python that accepts a string to setup a passwords. Your entered password must\n",
    "meet the following requirements:\n",
    "The password must be at least eight characters long.\n",
    "It must contain at least one uppercase letter.\n",
    "It must contain at least one lowercase letter.\n",
    "It must contain at least one numeric digit.\n",
    "Your program should should perform this validation."
   ]
  },
  {
   "cell_type": "code",
   "execution_count": 59,
   "id": "88172a78-36d7-4c37-b5e3-1dd9b25de692",
   "metadata": {},
   "outputs": [
    {
     "name": "stdin",
     "output_type": "stream",
     "text": [
      "Enter your password:  asifKhan09\n"
     ]
    },
    {
     "name": "stdout",
     "output_type": "stream",
     "text": [
      "Password is valid.\n"
     ]
    }
   ],
   "source": [
    "import re\n",
    "def validate_password(password):\n",
    "    if len(password) < 8:\n",
    "        return \"Password must be at least 8 characters long.\"\n",
    "    if not re.search(r'[A-Z]', password):\n",
    "        return \"Password must contain at least one uppercase letter.\"\n",
    "    if not re.search(r'[a-z]', password):\n",
    "        return \"Password must contain at least one lowercase letter.\"\n",
    "    if not re.search(r'[0-9]', password):\n",
    "        return \"Password must contain at least one numeric digit.\"\n",
    "    return \"Password is valid.\"\n",
    "\n",
    "password = input(\"Enter your password: \")\n",
    "result = validate_password(password)\n",
    "print(result)\n"
   ]
  },
  {
   "cell_type": "code",
   "execution_count": null,
   "id": "f9726f79-1cd9-4ae9-ac9a-01e947a425be",
   "metadata": {},
   "outputs": [],
   "source": [
    "\n",
    "\n",
    "\n",
    "\n"
   ]
  },
  {
   "cell_type": "code",
   "execution_count": null,
   "id": "e737446e-54e5-4161-984e-c13a05ed5127",
   "metadata": {},
   "outputs": [],
   "source": []
  },
  {
   "cell_type": "code",
   "execution_count": null,
   "id": "c923cd06-c0ef-41f1-938b-662bf0c8ec0b",
   "metadata": {},
   "outputs": [],
   "source": []
  },
  {
   "cell_type": "code",
   "execution_count": null,
   "id": "b535a65e-a438-437d-86cc-831c15237399",
   "metadata": {},
   "outputs": [],
   "source": []
  },
  {
   "cell_type": "code",
   "execution_count": null,
   "id": "70fd91ef-7ca7-419d-84a7-e91eb12dbadd",
   "metadata": {},
   "outputs": [],
   "source": []
  }
 ],
 "metadata": {
  "kernelspec": {
   "display_name": "Python 3 (ipykernel)",
   "language": "python",
   "name": "python3"
  },
  "language_info": {
   "codemirror_mode": {
    "name": "ipython",
    "version": 3
   },
   "file_extension": ".py",
   "mimetype": "text/x-python",
   "name": "python",
   "nbconvert_exporter": "python",
   "pygments_lexer": "ipython3",
   "version": "3.12.7"
  }
 },
 "nbformat": 4,
 "nbformat_minor": 5
}
