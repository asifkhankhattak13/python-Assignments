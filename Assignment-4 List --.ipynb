{
 "cells": [
  {
   "cell_type": "markdown",
   "id": "6105e60c-d00b-4fe7-9ac9-88a601354e57",
   "metadata": {},
   "source": [
    "## List Assignment"
   ]
  },
  {
   "cell_type": "markdown",
   "id": "f96e0b28-7285-45e0-8e01-1369184d5a7c",
   "metadata": {},
   "source": [
    "1. Write a program that accepts a list from user and print the alternate element of list."
   ]
  },
  {
   "cell_type": "code",
   "execution_count": 5,
   "id": "df1e549c-64f7-4881-afd4-8b88ee213afd",
   "metadata": {},
   "outputs": [
    {
     "name": "stdin",
     "output_type": "stream",
     "text": [
      "Enter a list of elements separated by spaces:  mango banana fuits juice hahah jjjj kkkk \n"
     ]
    },
    {
     "name": "stdout",
     "output_type": "stream",
     "text": [
      "Alternate elements of the list:\n",
      "mango\n",
      "fuits\n",
      "hahah\n",
      "kkkk\n"
     ]
    }
   ],
   "source": [
    "user_input = input(\"Enter a list of elements separated by spaces: \")\n",
    "elements = user_input.split()\n",
    "print(\"Alternate elements of the list:\")\n",
    "for i in range(0, len(elements), 2): \n",
    "    print(elements[i])"
   ]
  },
  {
   "cell_type": "code",
   "execution_count": 7,
   "id": "ef014e8b-600a-490a-adbd-161f2ca2ed53",
   "metadata": {},
   "outputs": [
    {
     "name": "stdin",
     "output_type": "stream",
     "text": [
      " enter a group of words seperated by space :   aaaa bbb cc ddd\n"
     ]
    },
    {
     "name": "stdout",
     "output_type": "stream",
     "text": [
      "alternate elemets of the list : \n",
      "aaaa\n",
      "bbb\n",
      "cc\n",
      "ddd\n"
     ]
    }
   ],
   "source": [
    "user_input = input(' enter a group of words seperated by space :  ')\n",
    "elements = user_input.split()\n",
    "print(\"alternate elemets of the list : \")\n",
    "for i in range(0, len(elements)):\n",
    "    print(elements[i])"
   ]
  },
  {
   "cell_type": "markdown",
   "id": "01ff3d26-e696-40ad-b750-8be6d58ede8f",
   "metadata": {},
   "source": [
    "2. Write a program that accepts a list from user. Your program should reverse the content of list and\n",
    "display it. Do not use reverse() method."
   ]
  },
  {
   "cell_type": "code",
   "execution_count": 23,
   "id": "c8a5ea6a-596c-49aa-9135-66311a7b8a2c",
   "metadata": {},
   "outputs": [
    {
     "name": "stdin",
     "output_type": "stream",
     "text": [
      "Enter a list of elements separated by spaces:  ab, bb, cc, dd\n"
     ]
    },
    {
     "name": "stdout",
     "output_type": "stream",
     "text": [
      "Reversed list: ['dd', 'cc,', 'bb,', 'ab,']\n"
     ]
    }
   ],
   "source": [
    "user_input = input(\"Enter a list of elements separated by spaces: \")\n",
    "elements = user_input.split()\n",
    "reversed_list = []\n",
    "for i in range(len(elements)-1, -1,-1): \n",
    "    reversed_list.append(elements[i])\n",
    "print(\"Reversed list:\", reversed_list)"
   ]
  },
  {
   "cell_type": "code",
   "execution_count": 9,
   "id": "2c55645c-2765-4cc0-962f-02b45a6999ff",
   "metadata": {},
   "outputs": [
    {
     "name": "stdin",
     "output_type": "stream",
     "text": [
      " enter a list of words by spaces:  aaa bbb cc dd ee \n"
     ]
    },
    {
     "name": "stdout",
     "output_type": "stream",
     "text": [
      "['ee', 'dd', 'cc', 'bbb', 'aaa']\n"
     ]
    }
   ],
   "source": [
    "list = input(' enter a list of words by spaces: ')\n",
    "elements = list.split()\n",
    "reverse_list = []\n",
    "for i in range(len(elements)-1, -1 , -1 ):\n",
    "    reverse_list.append(elements[i])\n",
    "print(reverse_list)\n"
   ]
  },
  {
   "cell_type": "markdown",
   "id": "5b31fe43-2ad2-4a01-ab7b-64a0acf39718",
   "metadata": {},
   "source": [
    "3. Find and display the largest number of a list without using built-in function max(). Your program\n",
    "should ask the user to input values in list from keyboard."
   ]
  },
  {
   "cell_type": "code",
   "execution_count": 29,
   "id": "a3c8bc2d-192f-4f97-a1b7-d797e4ef59aa",
   "metadata": {},
   "outputs": [
    {
     "name": "stdin",
     "output_type": "stream",
     "text": [
      "Enter a list of numbers separated by spaces:  10 11 12 14 44 55 66 \n"
     ]
    },
    {
     "name": "stdout",
     "output_type": "stream",
     "text": [
      "The largest number in the list is: 66\n"
     ]
    }
   ],
   "source": [
    "user_input = input(\"Enter a list of numbers separated by spaces: \")\n",
    "elements = user_input.split()\n",
    "numbers = [int(i) for i in elements]\n",
    "largest = numbers[0] \n",
    "for num in numbers:\n",
    "    if num > largest:\n",
    "        largest = num\n",
    "print(\"The largest number in the list is:\", largest)"
   ]
  },
  {
   "cell_type": "code",
   "execution_count": 21,
   "id": "7600a0df-b8e6-4eb2-aee8-02514ab3a40b",
   "metadata": {},
   "outputs": [
    {
     "name": "stdin",
     "output_type": "stream",
     "text": [
      " write a list of numbers followed by space :  22\n"
     ]
    },
    {
     "name": "stdout",
     "output_type": "stream",
     "text": [
      "22\n"
     ]
    }
   ],
   "source": [
    "Input= input(' write a list of numbers followed by space : ')\n",
    "elements = Input.split()\n",
    "numbers = [ int(i) for i in elements]\n",
    "largest = numbers [0]\n",
    "for num in numbers:\n",
    "    if num > largest :\n",
    "        largest = num \n",
    "        \n",
    "print(largest)"
   ]
  },
  {
   "cell_type": "code",
   "execution_count": 29,
   "id": "4141f2f5-bb8e-4d0e-a800-149dc9470e7e",
   "metadata": {},
   "outputs": [
    {
     "name": "stdin",
     "output_type": "stream",
     "text": [
      " write list of numbers by spaces :  22 33\n"
     ]
    },
    {
     "name": "stdout",
     "output_type": "stream",
     "text": [
      "22\n"
     ]
    }
   ],
   "source": [
    "Input = input(' write list of numbers by spaces : ')\n",
    "elements= Input.split()\n",
    "numbers = [int(i) for i in elements]\n",
    "smallest = numbers [0]\n",
    "for numb in numbers :\n",
    "    if numb < smallest:\n",
    "        smallest = numb \n",
    "print( smallest)\n",
    "    "
   ]
  },
  {
   "cell_type": "markdown",
   "id": "8013aa31-73b6-49ce-9230-5f0a7d91efa7",
   "metadata": {},
   "source": [
    "4. Write a program that rotates the element of a list so that the element at the first index moves to the\n",
    "second index, the element in the second index moves to the third index, etc., and the element in the last\n",
    "index moves to the first index."
   ]
  },
  {
   "cell_type": "code",
   "execution_count": null,
   "id": "b63cd98f-9bdc-4ae0-a08d-050ab50b8b4e",
   "metadata": {},
   "outputs": [],
   "source": [
    "user_input = input(' write a list of elements by spaces : ')\n",
    "elements = user_input.split()\n",
    "if len(elements)> 1 :\n",
    "    \n",
    "\n",
    "\n",
    "\n",
    "\n"
   ]
  },
  {
   "cell_type": "code",
   "execution_count": 31,
   "id": "03b46673-08ce-473e-b829-a4b05b601f58",
   "metadata": {},
   "outputs": [
    {
     "name": "stdin",
     "output_type": "stream",
     "text": [
      "Enter a list of elements separated by spaces:  22 33 44 55 \n"
     ]
    },
    {
     "name": "stdout",
     "output_type": "stream",
     "text": [
      "The rotated list is: ['33', '44', '55', '22']\n"
     ]
    }
   ],
   "source": [
    "user_input = input(\"Enter a list of elements separated by spaces: \")\n",
    "elements = user_input.split()\n",
    "if len(elements) > 1:\n",
    "    first_element = elements.pop(0)\n",
    "    elements.append(first_element)\n",
    "print(\"The rotated list is:\", elements)"
   ]
  },
  {
   "cell_type": "markdown",
   "id": "24591856-8e96-4899-9221-a49be4a74632",
   "metadata": {},
   "source": [
    "5. Write a program that input a string and ask user to delete a given word from a string."
   ]
  },
  {
   "cell_type": "code",
   "execution_count": 31,
   "id": "cf6c6f0d-5826-4536-8b5d-a8957da8f443",
   "metadata": {},
   "outputs": [
    {
     "name": "stdin",
     "output_type": "stream",
     "text": [
      "Enter a string:  my name is asif \n",
      "Enter the word to delete from the string:  is\n"
     ]
    },
    {
     "name": "stdout",
     "output_type": "stream",
     "text": [
      "Modified string: my name  asif \n"
     ]
    }
   ],
   "source": [
    "original_string = input(\"Enter a string: \")\n",
    "word_to_delete = input(\"Enter the word to delete from the string: \")\n",
    "modified_string = original_string.replace(word_to_delete, \"\")\n",
    "print(\"Modified string:\", modified_string)"
   ]
  },
  {
   "cell_type": "markdown",
   "id": "d3c1288b-be29-49ce-ad16-641453d8a62b",
   "metadata": {},
   "source": [
    "6. Write a program that reads a string from the user containing a date in the form mm/dd/yyyy. It\n",
    "should print the date in the form March 12, 2021."
   ]
  },
  {
   "cell_type": "code",
   "execution_count": 39,
   "id": "4d2eabb7-33af-4a67-9c32-fa329ea187cf",
   "metadata": {},
   "outputs": [
    {
     "name": "stdin",
     "output_type": "stream",
     "text": [
      "Enter the date in mm/dd/yyyy format:  12/14/2024\n"
     ]
    },
    {
     "name": "stdout",
     "output_type": "stream",
     "text": [
      "December 14, 2024\n"
     ]
    }
   ],
   "source": [
    "date_string = input(\"Enter the date in mm/dd/yyyy format: \")\n",
    "month, day, year = date_string.split('/')\n",
    "month_names = {\n",
    "    '01': 'January', '02': 'February', '03': 'March', '04': 'April',\n",
    "    '05': 'May', '06': 'June', '07': 'July', '08': 'August',\n",
    "    '09': 'September', '10': 'October', '11': 'November', '12': 'December'\n",
    "}\n",
    "month_name = month_names.get(month, \"Invalid month\")\n",
    "print(f\"{month_name} {int(day)}, {year}\")\n"
   ]
  },
  {
   "cell_type": "markdown",
   "id": "c9c5c507-bfa7-40fd-b5c5-35fe3442e62d",
   "metadata": {},
   "source": [
    "7. Write a program with a function that accepts a string from keyboard and create a new string after\n",
    "converting character of each word capitalized. For instance, if the sentence is \"stop and smell the roses.\"\n",
    "the output should be \"Stop And Smell The Roses\""
   ]
  },
  {
   "cell_type": "code",
   "execution_count": 45,
   "id": "d1fc00b1-4539-4903-af30-9447ff3e5b33",
   "metadata": {},
   "outputs": [
    {
     "name": "stdin",
     "output_type": "stream",
     "text": [
      " write a senetence with spaces:  asif is aboy\n"
     ]
    },
    {
     "name": "stdout",
     "output_type": "stream",
     "text": [
      "Asif Is Aboy\n"
     ]
    }
   ],
   "source": [
    "def capital (sentence):\n",
    "    words= sentence.split()\n",
    "    capital = [ word.capitalize() for word in words]\n",
    "    result= ' '.join(capital)\n",
    "    return result\n",
    "    \n",
    "data = input( ' write a senetence with spaces: ')\n",
    "print(capital(data))"
   ]
  },
  {
   "cell_type": "code",
   "execution_count": 41,
   "id": "a55aa512-e16f-432c-bfe5-e3622f3a7717",
   "metadata": {},
   "outputs": [
    {
     "name": "stdin",
     "output_type": "stream",
     "text": [
      "Enter a sentence:  MY NAME IS ASIF\n"
     ]
    },
    {
     "name": "stdout",
     "output_type": "stream",
     "text": [
      "Capitalized sentence: My Name Is Asif\n"
     ]
    }
   ],
   "source": [
    "def capitalize_words(sentence):\n",
    "    words = sentence.split()\n",
    "    capitalized_words = [word.capitalize() for word in words]\n",
    "    result = ' '.join(capitalized_words)\n",
    "    return result\n",
    "user_input = input(\"Enter a sentence: \")\n",
    "output = capitalize_words(user_input)\n",
    "print(\"Capitalized sentence:\", output)"
   ]
  },
  {
   "attachments": {
    "2c744952-0b30-49e8-8c23-a0b42093763f.png": {
     "image/png": "[encoded data removed]"
    }
   },
   "cell_type": "markdown",
   "id": "bb3ea5d5-528d-4aea-9753-50c5f862796f",
   "metadata": {},
   "source": [
    "8. Find the sum of each row of matrix of size m x n. For example for the following matrix output will be\n",
    "like this :\n",
    "Sum of row 1 = 32\n",
    "Sum of row 2 = 31\n",
    "Sum of row 3 = 63\n",
    "\n",
    "![image.png](attachment:2c744952-0b30-49e8-8c23-a0b42093763f.png)"
   ]
  },
  {
   "cell_type": "code",
   "execution_count": null,
   "id": "6e03704e-3b08-4fa8-a74b-17f677dd36e1",
   "metadata": {},
   "outputs": [],
   "source": []
  },
  {
   "cell_type": "markdown",
   "id": "131790ca-6583-4c7f-aeb2-9708b9902162",
   "metadata": {},
   "source": [
    "9. Write a program to add two matrices of size n x m."
   ]
  },
  {
   "cell_type": "code",
   "execution_count": null,
   "id": "1e888685-ee6c-4411-b6fe-f9ae8742c1ea",
   "metadata": {},
   "outputs": [],
   "source": []
  },
  {
   "cell_type": "markdown",
   "id": "d191e8b8-2215-416e-b60d-4da277b72573",
   "metadata": {},
   "source": [
    "10. Write a program to multiply two matrices"
   ]
  },
  {
   "cell_type": "code",
   "execution_count": null,
   "id": "14fba52b-cca5-4d23-a1aa-39cbbd839043",
   "metadata": {},
   "outputs": [],
   "source": []
  },
  {
   "cell_type": "markdown",
   "id": "bfa56c44-5ba6-42a5-92d3-d5e47125a4ee",
   "metadata": {},
   "source": [
    "# Conditional Structures"
   ]
  },
  {
   "cell_type": "markdown",
   "id": "1ef07966-f2c4-46fe-b354-9cf9333b88b8",
   "metadata": {},
   "source": [
    "1. Write a program that prompts the user to input a number and display if the number\n",
    "is even or odd."
   ]
  },
  {
   "cell_type": "code",
   "execution_count": 45,
   "id": "e8dd8238-bc03-4769-9006-d6cc91a67846",
   "metadata": {},
   "outputs": [
    {
     "name": "stdin",
     "output_type": "stream",
     "text": [
      "Enter a number:  3\n"
     ]
    },
    {
     "name": "stdout",
     "output_type": "stream",
     "text": [
      "3 is odd.\n"
     ]
    }
   ],
   "source": [
    "number = int(input(\"Enter a number: \"))\n",
    "if number % 2 == 0:\n",
    "    print(f\"{number} is even.\")\n",
    "else:\n",
    "    print(f\"{number} is odd.\")"
   ]
  },
  {
   "cell_type": "markdown",
   "id": "d426247f-e661-41bd-94eb-f2896b9b2582",
   "metadata": {},
   "source": [
    "2. Write a Python program that takes an age as input and determines whether a person\n",
    "is eligible to vote. If the age is 18 or above, print \"You are eligible to vote.\" Otherwise,\n",
    "print \"You are not eligible to vote yet.\"."
   ]
  },
  {
   "cell_type": "code",
   "execution_count": 47,
   "id": "22169a82-6cf1-4fea-ba06-157a568a027c",
   "metadata": {},
   "outputs": [
    {
     "name": "stdin",
     "output_type": "stream",
     "text": [
      "Enter your age:  15\n"
     ]
    },
    {
     "name": "stdout",
     "output_type": "stream",
     "text": [
      "You are not eligible to vote yet.\n"
     ]
    }
   ],
   "source": [
    "age = int(input(\"Enter your age: \"))\n",
    "if age >= 18:\n",
    "    print(\"You are eligible to vote.\")\n",
    "else:\n",
    "    print(\"You are not eligible to vote yet.\")"
   ]
  },
  {
   "cell_type": "markdown",
   "id": "7dc62a55-adbb-45f9-a9db-c1b8ece577f6",
   "metadata": {},
   "source": [
    "3. Write a program that prompts the user to input two integers and outputs the largest."
   ]
  },
  {
   "cell_type": "code",
   "execution_count": 49,
   "id": "b5f07c0e-2c87-41c2-ad5e-460e0965ee61",
   "metadata": {},
   "outputs": [
    {
     "name": "stdin",
     "output_type": "stream",
     "text": [
      "Enter the first integer:  4\n",
      "Enter the second integer:  2\n"
     ]
    },
    {
     "name": "stdout",
     "output_type": "stream",
     "text": [
      "The largest number is 4.\n"
     ]
    }
   ],
   "source": [
    "num1 = int(input(\"Enter the first integer: \"))\n",
    "num2 = int(input(\"Enter the second integer: \"))\n",
    "if num1 > num2:\n",
    "    print(f\"The largest number is {num1}.\")\n",
    "elif num2 > num1:\n",
    "    print(f\"The largest number is {num2}.\")\n",
    "else:\n",
    "    print(\"Both numbers are equal.\")"
   ]
  },
  {
   "cell_type": "markdown",
   "id": "59b557ba-c6f5-4c6d-b477-6c4f137062a3",
   "metadata": {},
   "source": [
    "4. Write a program that prompts the user to enter a number and determines whether it\n",
    "is positive, negative, or zero. The program should print \"Positive\" if the number is\n",
    "greater than 0, \"Negative\" if the number is less than 0, and \"Zero\" if the number is 0."
   ]
  },
  {
   "cell_type": "code",
   "execution_count": 51,
   "id": "00b00041-8f2c-49cd-b4c6-0618c155b68c",
   "metadata": {},
   "outputs": [
    {
     "name": "stdin",
     "output_type": "stream",
     "text": [
      "Enter a number:  4\n"
     ]
    },
    {
     "name": "stdout",
     "output_type": "stream",
     "text": [
      "Positive\n"
     ]
    }
   ],
   "source": [
    "number = float(input(\"Enter a number: \"))\n",
    "if number > 0:\n",
    "    print(\"Positive\")\n",
    "elif number < 0:\n",
    "    print(\"Negative\")\n",
    "else:\n",
    "    print(\"Zero\")"
   ]
  },
  {
   "cell_type": "markdown",
   "id": "26abb77e-9c44-49e1-844c-426797d5f94f",
   "metadata": {},
   "source": [
    "5. Write a program that prompts the user to enter their age and prints the\n",
    "corresponding age group. The program should use the following age groups:\n",
    "0-12: Child\n",
    "13-19: Teenager\n",
    "20-59: Adult\n",
    "60 and above: Senior Citizen"
   ]
  },
  {
   "cell_type": "code",
   "execution_count": 53,
   "id": "e9f5a698-d307-475d-a07c-36a75b028829",
   "metadata": {},
   "outputs": [
    {
     "name": "stdin",
     "output_type": "stream",
     "text": [
      "Enter your age:  12\n"
     ]
    },
    {
     "name": "stdout",
     "output_type": "stream",
     "text": [
      "Child\n"
     ]
    }
   ],
   "source": [
    "age = int(input(\"Enter your age: \"))\n",
    "if 0 <= age <= 12:\n",
    "    print(\"Child\")\n",
    "elif 13 <= age <= 19:\n",
    "    print(\"Teenager\")\n",
    "elif 20 <= age <= 59:\n",
    "    print(\"Adult\")\n",
    "elif age >= 60:\n",
    "    print(\"Senior Citizen\")\n",
    "else:\n",
    "    print(\"Invalid age.\")"
   ]
  },
  {
   "cell_type": "markdown",
   "id": "22664018-1221-447c-8539-90302608f49d",
   "metadata": {},
   "source": [
    "6. Write a program that prompts the user to input a number from 1 to 7. The program\n",
    "should display the corresponding day for the given number. For example, if the user\n",
    "types 1, the output should be Sunday. If the user types 7, the output should be\n",
    "Saturday. If the number is not between 1 to 7 user should get error message as shown\n",
    "in sample output."
   ]
  },
  {
   "cell_type": "code",
   "execution_count": 55,
   "id": "093b31fb-8fba-41bc-b504-74b5a554269e",
   "metadata": {},
   "outputs": [
    {
     "name": "stdin",
     "output_type": "stream",
     "text": [
      "Enter a number between 1 and 7:  3\n"
     ]
    },
    {
     "name": "stdout",
     "output_type": "stream",
     "text": [
      "Tuesday\n"
     ]
    }
   ],
   "source": [
    "day_number = int(input(\"Enter a number between 1 and 7: \"))\n",
    "if day_number == 1:\n",
    "    print(\"Sunday\")\n",
    "elif day_number == 2:\n",
    "    print(\"Monday\")\n",
    "elif day_number == 3:\n",
    "    print(\"Tuesday\")\n",
    "elif day_number == 4:\n",
    "    print(\"Wednesday\")\n",
    "elif day_number == 5:\n",
    "    print(\"Thursday\")\n",
    "elif day_number == 6:\n",
    "    print(\"Friday\")\n",
    "elif day_number == 7:\n",
    "    print(\"Saturday\")\n",
    "else:\n",
    "    print(\"Error: Please enter a number between 1 and 7.\")"
   ]
  },
  {
   "cell_type": "markdown",
   "id": "9fa4264b-2073-4495-8ed2-5056f44bfa98",
   "metadata": {},
   "source": [
    "7. Write a program that prompts the user to enter their weight (in kilograms) and height\n",
    "(in meters). The program should calculate the Body Mass Index (BMI) using the formula:\n",
    "BMI = weight / (height * height). The program should then classify the BMI into one of\n",
    "the following categories:\n",
    "less than 18.5 - Underweight\n",
    "BMI between 18.5 and 24.9 - Normal weight\n",
    "BMI between 25 and 29.9 - Overweight\n",
    "BMI 30 or greater - Obesity"
   ]
  },
  {
   "cell_type": "code",
   "execution_count": 59,
   "id": "dac95613-2e8d-4144-903d-c456b8bb46ea",
   "metadata": {},
   "outputs": [
    {
     "name": "stdin",
     "output_type": "stream",
     "text": [
      "Enter your weight in kilograms:  70\n",
      "Enter your height in meters:  5.7\n"
     ]
    },
    {
     "name": "stdout",
     "output_type": "stream",
     "text": [
      "Your BMI is: 2.154509079716836\n",
      "Classification: Underweight\n"
     ]
    }
   ],
   "source": [
    "weight = float(input(\"Enter your weight in kilograms: \"))\n",
    "height = float(input(\"Enter your height in meters: \"))\n",
    "bmi = weight / (height * height)\n",
    "if bmi < 18.5:\n",
    "    classification = \"Underweight\"\n",
    "elif 18.5 <= bmi <= 24.9:\n",
    "    classification = \"Normal weight\"\n",
    "elif 25 <= bmi <= 29.9:\n",
    "    classification = \"Overweight\"\n",
    "else:\n",
    "    classification = \"Obesity\"\n",
    "print(f\"Your BMI is: {bmi}\")\n",
    "print(f\"Classification: {classification}\")\n"
   ]
  },
  {
   "cell_type": "markdown",
   "id": "11f02d09-a0e4-4017-bfda-dee93dd6c602",
   "metadata": {},
   "source": [
    "8. The marks obtained by a student in 3 different subjects are input by the user. Your\n",
    "program should calculate the average of subjects and display the grade. The student\n",
    "gets a grade as per the following rules:\n",
    "Average Grade\n",
    "90-100 A\n",
    "80-89 B\n",
    "70-79 C\n",
    "60-69 D\n",
    "0-59 F"
   ]
  },
  {
   "cell_type": "code",
   "execution_count": 61,
   "id": "e0f60515-2aa0-4b1a-887c-bb22edd114ad",
   "metadata": {},
   "outputs": [
    {
     "name": "stdin",
     "output_type": "stream",
     "text": [
      "Enter marks for subject 1:  54\n",
      "Enter marks for subject 2:  45\n",
      "Enter marks for subject 3:  45\n"
     ]
    },
    {
     "name": "stdout",
     "output_type": "stream",
     "text": [
      "Your average mark is: 48.0\n",
      "Your grade is: F\n"
     ]
    }
   ],
   "source": [
    "mark1 = float(input(\"Enter marks for subject 1: \"))\n",
    "mark2 = float(input(\"Enter marks for subject 2: \"))\n",
    "mark3 = float(input(\"Enter marks for subject 3: \"))\n",
    "average = (mark1 + mark2 + mark3) / 3\n",
    "if 90 <= average <= 100:\n",
    "    grade = \"A\"\n",
    "elif 80 <= average < 90:\n",
    "    grade = \"B\"\n",
    "elif 70 <= average < 80:\n",
    "    grade = \"C\"\n",
    "elif 60 <= average < 70:\n",
    "    grade = \"D\"\n",
    "else:\n",
    "    grade = \"F\"\n",
    "print(f\"Your average mark is: {average}\")\n",
    "print(f\"Your grade is: {grade}\")\n"
   ]
  },
  {
   "attachments": {
    "43edafff-8f35-49c4-bcd5-a63828179d05.png": {
     "image/png": "[encoded data removed]"
    }
   },
   "cell_type": "markdown",
   "id": "06a7ad3d-f3b8-4f3a-a920-4efc2570c612",
   "metadata": {},
   "source": [
    "9. The roots of the quadratic equation ax2 + bx + c = 0, a ≠ 0 are given by the following\n",
    "formula:\n",
    "In this formula, the term b2 - 4ac is called the discriminant. If b2 - 4ac = 0, then the\n",
    "equation has two equal roots.\n",
    "If b2 - 4ac > 0, the equation has two real roots. If b2 - 4ac < 0, the equation has two\n",
    "complex roots.\n",
    "Write a program that prompts the user to input the value of a (the coefficient of x2), b\n",
    "(the coefficient of x), and c (the constant term) and outputs the roots of the quadratic\n",
    "equation.\n",
    "![image.png](attachment:43edafff-8f35-49c4-bcd5-a63828179d05.png)"
   ]
  },
  {
   "cell_type": "code",
   "execution_count": null,
   "id": "5c7331ee-dc37-4a8f-9acf-c7c30ebda747",
   "metadata": {},
   "outputs": [],
   "source": [
    "\n"
   ]
  },
  {
   "cell_type": "markdown",
   "id": "c32f74b2-fe88-47fb-becb-79ef0e0ff577",
   "metadata": {},
   "source": [
    "10. Write a program that prompts the user to enter three numbers and sorts them in\n",
    "ascending order. The program should print the sorted numbers."
   ]
  },
  {
   "cell_type": "code",
   "execution_count": 63,
   "id": "58df5f10-2475-43e3-9819-304d510a61e6",
   "metadata": {},
   "outputs": [
    {
     "name": "stdin",
     "output_type": "stream",
     "text": [
      "Enter the first number:  22\n",
      "Enter the second number:  11\n",
      "Enter the third number:  33\n"
     ]
    },
    {
     "name": "stdout",
     "output_type": "stream",
     "text": [
      "The numbers in ascending order are: [11.0, 22.0, 33.0]\n"
     ]
    }
   ],
   "source": [
    "num1 = float(input(\"Enter the first number: \"))\n",
    "num2 = float(input(\"Enter the second number: \"))\n",
    "num3 = float(input(\"Enter the third number: \"))\n",
    "numbers = [num1, num2, num3]\n",
    "numbers.sort()\n",
    "print(\"The numbers in ascending order are:\", numbers)"
   ]
  },
  {
   "cell_type": "markdown",
   "id": "a4597848-d5dc-42f4-99c2-f9669d16128e",
   "metadata": {},
   "source": [
    "11. Write a program that prompts the user to input three integers and outputs the\n",
    "largest."
   ]
  },
  {
   "cell_type": "code",
   "execution_count": 65,
   "id": "602671b1-556c-416b-8f4b-d1008f89babc",
   "metadata": {},
   "outputs": [
    {
     "name": "stdin",
     "output_type": "stream",
     "text": [
      "Enter the first integer:  22\n",
      "Enter the second integer:  33\n",
      "Enter the third integer:  11\n"
     ]
    },
    {
     "name": "stdout",
     "output_type": "stream",
     "text": [
      "The largest number is: 33\n"
     ]
    }
   ],
   "source": [
    "num1 = int(input(\"Enter the first integer: \"))\n",
    "num2 = int(input(\"Enter the second integer: \"))\n",
    "num3 = int(input(\"Enter the third integer: \"))\n",
    "if num1 >= num2 and num1 >= num3:\n",
    "    largest = num1\n",
    "elif num2 >= num1 and num2 >= num3:\n",
    "    largest = num2\n",
    "else:\n",
    "    largest = num3\n",
    "print(\"The largest number is:\", largest)\n"
   ]
  },
  {
   "cell_type": "markdown",
   "id": "31b37879-4f81-46f5-87b3-f5b99f3b4d24",
   "metadata": {},
   "source": [
    "12. Write a program that prompts the user to input a character and determine the\n",
    "character is vowel or consonant."
   ]
  },
  {
   "cell_type": "code",
   "execution_count": 71,
   "id": "82d6aa8e-49b6-475c-8651-8c06612a3d59",
   "metadata": {},
   "outputs": [
    {
     "name": "stdin",
     "output_type": "stream",
     "text": [
      "Enter a character:  X\n"
     ]
    },
    {
     "name": "stdout",
     "output_type": "stream",
     "text": [
      "The character 'x' is a consonant.\n"
     ]
    }
   ],
   "source": [
    "char = input(\"Enter a character: \").lower()  \n",
    "if char.isalpha() and len(char) == 1:\n",
    "    if char in 'aeiou':\n",
    "        print(f\"The character '{char}' is a vowel.\")\n",
    "    else:\n",
    "        print(f\"The character '{char}' is a consonant.\")\n",
    "else:\n",
    "    print(\"Please enter a valid single alphabetic character.\")\n"
   ]
  },
  {
   "cell_type": "markdown",
   "id": "1c369dfe-5429-4df1-a1e6-a2e9ce47a5a4",
   "metadata": {},
   "source": [
    "13. Write a program that prompts the user to input a year and determine whether the\n",
    "year is a leap year or not.\n",
    "Leap Years are any year that can be evenly divided by 4. A year that is evenly divisible by\n",
    "100 is a leap year only if it is also evenly divisible by 400. Example:\n",
    "1992 Leap Year\n",
    "2000 Leap Year\n",
    "1900 NOT a Leap Year\n",
    "1995 NOT a Leap Year"
   ]
  },
  {
   "cell_type": "code",
   "execution_count": 75,
   "id": "d94d8b13-1061-4859-9a19-a85c579f6cce",
   "metadata": {},
   "outputs": [
    {
     "name": "stdin",
     "output_type": "stream",
     "text": [
      "Enter a year:  2024\n"
     ]
    },
    {
     "name": "stdout",
     "output_type": "stream",
     "text": [
      "2024 is a Leap Year.\n"
     ]
    }
   ],
   "source": [
    "year = int(input(\"Enter a year: \"))\n",
    "if (year % 4 == 0 and year % 100 != 0) or (year % 400 == 0):\n",
    "    print(f\"{year} is a Leap Year.\")\n",
    "else:\n",
    "    print(f\"{year} is NOT a Leap Year.\")\n"
   ]
  },
  {
   "cell_type": "markdown",
   "id": "823038c8-6511-4c13-959f-8bbfff0a7c4b",
   "metadata": {},
   "source": [
    "14. Write a program that prompts the user to input number of calls and calculate the\n",
    "monthly telephone bills as per the following rule:\n",
    "Minimum Rs. 200 for up to 100 calls.\n",
    "Plus Rs. 0.60 per call for next 50 calls.\n",
    "Plus Rs. 0.50 per call for next 50 calls.\n",
    "Plus Rs. 0.40 per call for any call beyond 200 calls."
   ]
  },
  {
   "cell_type": "code",
   "execution_count": 77,
   "id": "7c5bfb93-15ed-4529-bd36-9c5abf06ad50",
   "metadata": {},
   "outputs": [
    {
     "name": "stdin",
     "output_type": "stream",
     "text": [
      "Enter the number of calls made in a month:  12\n"
     ]
    },
    {
     "name": "stdout",
     "output_type": "stream",
     "text": [
      "Total monthly telephone bill: Rs. 200\n"
     ]
    }
   ],
   "source": [
    "calls = int(input(\"Enter the number of calls made in a month: \"))\n",
    "bill = 200\n",
    "if calls > 100:\n",
    "    # For the next 50 calls (101 to 150)\n",
    "    if calls <= 150:\n",
    "        bill += (calls - 100) * 0.60\n",
    "    else:\n",
    "        bill += 50 * 0.60  # Charge for 101 to 150 calls\n",
    "        # For the next 50 calls (151 to 200)\n",
    "        if calls <= 200:\n",
    "            bill += (calls - 150) * 0.50\n",
    "        else:\n",
    "            bill += 50 * 0.50  # Charge for 151 to 200 calls\n",
    "            # For calls beyond 200, charge 0.40 per call\n",
    "            bill += (calls - 200) * 0.40\n",
    "\n",
    "print(f\"Total monthly telephone bill: Rs. {bill}\")\n"
   ]
  },
  {
   "cell_type": "code",
   "execution_count": null,
   "id": "9369125f-e7be-429d-b6ad-58fd23d30c92",
   "metadata": {},
   "outputs": [],
   "source": []
  },
  {
   "cell_type": "code",
   "execution_count": null,
   "id": "4b81879e-2f77-4f8f-81a7-9fefa1da68b1",
   "metadata": {},
   "outputs": [],
   "source": []
  },
  {
   "cell_type": "code",
   "execution_count": null,
   "id": "85177e12-b2e1-4f14-b533-884058e7a36e",
   "metadata": {},
   "outputs": [],
   "source": []
  },
  {
   "cell_type": "code",
   "execution_count": null,
   "id": "9086d335-299c-4264-a6e2-030957fba546",
   "metadata": {},
   "outputs": [],
   "source": []
  }
 ],
 "metadata": {
  "kernelspec": {
   "display_name": "Python 3 (ipykernel)",
   "language": "python",
   "name": "python3"
  },
  "language_info": {
   "codemirror_mode": {
    "name": "ipython",
    "version": 3
   },
   "file_extension": ".py",
   "mimetype": "text/x-python",
   "name": "python",
   "nbconvert_exporter": "python",
   "pygments_lexer": "ipython3",
   "version": "3.12.7"
  }
 },
 "nbformat": 4,
 "nbformat_minor": 5
}
