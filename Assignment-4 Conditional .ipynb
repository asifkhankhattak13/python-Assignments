{
 "cells": [
  {
   "cell_type": "markdown",
   "id": "c2d32450-c466-466e-81e6-9ea63daaea1d",
   "metadata": {},
   "source": [
    "1. Write a program that prompts the user to input a number and display if the number\n",
    "is even or odd."
   ]
  },
  {
   "cell_type": "code",
   "execution_count": 1,
   "id": "bf8793b1-9da7-4780-ba60-6c5a80a6dbcd",
   "metadata": {},
   "outputs": [
    {
     "name": "stdin",
     "output_type": "stream",
     "text": [
      "Enter a number:  2\n"
     ]
    },
    {
     "name": "stdout",
     "output_type": "stream",
     "text": [
      "The number 2 is even.\n"
     ]
    }
   ],
   "source": [
    "number = int(input(\"Enter a number: \"))\n",
    "if number % 2 == 0:\n",
    "    print(f\"The number {number} is even.\")\n",
    "else:\n",
    "    print(f\"The number {number} is odd.\")\n"
   ]
  },
  {
   "cell_type": "markdown",
   "id": "2aee6296-623a-44c0-ae0e-c352818aa61c",
   "metadata": {},
   "source": [
    "2. Write a Python program that takes an age as input and determines whether a person\n",
    "is eligible to vote. If the age is 18 or above, print \"You are eligible to vote.\" Otherwise,\n",
    "print \"You are not eligible to vote yet.\"."
   ]
  },
  {
   "cell_type": "code",
   "execution_count": 5,
   "id": "365ed529-c6b3-4642-b240-816d10e6ad19",
   "metadata": {},
   "outputs": [
    {
     "name": "stdin",
     "output_type": "stream",
     "text": [
      "Enter your age:  19\n"
     ]
    },
    {
     "name": "stdout",
     "output_type": "stream",
     "text": [
      "You are eligible to vote.\n"
     ]
    }
   ],
   "source": [
    "age = int(input(\"Enter your age: \"))\n",
    "if age >= 18:\n",
    "    print(\"You are eligible to vote.\")\n",
    "else:\n",
    "    print(\"You are not eligible to vote yet.\")\n"
   ]
  },
  {
   "cell_type": "markdown",
   "id": "798315a7-30dd-4cda-b60e-73ad1356c509",
   "metadata": {},
   "source": [
    "3. Write a program that prompts the user to input two integers and outputs the largest."
   ]
  },
  {
   "cell_type": "code",
   "execution_count": 8,
   "id": "441148f9-e9a0-4b7d-aaf8-f8522840c416",
   "metadata": {},
   "outputs": [
    {
     "name": "stdin",
     "output_type": "stream",
     "text": [
      "Enter the first integer:  16\n",
      "Enter the second integer:  17\n"
     ]
    },
    {
     "name": "stdout",
     "output_type": "stream",
     "text": [
      "The largest number is: 17\n"
     ]
    }
   ],
   "source": [
    "num1 = int(input(\"Enter the first integer: \"))\n",
    "num2 = int(input(\"Enter the second integer: \"))\n",
    "if num1 > num2:\n",
    "    print(f\"The largest number is: {num1}\")\n",
    "elif num2 > num1:\n",
    "    print(f\"The largest number is: {num2}\")\n",
    "else:\n",
    "    print(\"Both numbers are equal.\")\n"
   ]
  },
  {
   "cell_type": "markdown",
   "id": "2f085110-0590-43f7-a6cb-561f788a750f",
   "metadata": {},
   "source": [
    "4. Write a program that prompts the user to enter a number and determines whether it\n",
    "is positive, negative, or zero. The program should print \"Positive\" if the number is\n",
    "greater than 0, \"Negative\" if the number is less than 0, and \"Zero\" if the number is 0."
   ]
  },
  {
   "cell_type": "code",
   "execution_count": 13,
   "id": "d1f53262-f7a4-4918-aab9-20834b05b785",
   "metadata": {},
   "outputs": [
    {
     "name": "stdin",
     "output_type": "stream",
     "text": [
      "Enter a number:  16\n"
     ]
    },
    {
     "name": "stdout",
     "output_type": "stream",
     "text": [
      "Positive\n"
     ]
    }
   ],
   "source": [
    "number = float(input(\"Enter a number: \"))\n",
    "if number > 0:\n",
    "    print(\"Positive\")\n",
    "elif number < 0:\n",
    "    print(\"Negative\")\n",
    "else:\n",
    "    print(\"Zero\")\n"
   ]
  },
  {
   "cell_type": "markdown",
   "id": "de359875-0058-4d52-9cc7-b1bf2f353e7d",
   "metadata": {},
   "source": [
    "5. Write a program that prompts the user to enter their age and prints the\n",
    "corresponding age group. The program should use the following age groups:\n",
    "0-12: Child\n",
    "13-19: Teenager\n",
    "20-59: Adult\n",
    "60 and above: Senior Citizen"
   ]
  },
  {
   "cell_type": "code",
   "execution_count": 16,
   "id": "06fa4f70-a225-456a-9f8a-ecdc13ecb2c6",
   "metadata": {},
   "outputs": [
    {
     "name": "stdin",
     "output_type": "stream",
     "text": [
      "Enter your age:  18\n"
     ]
    },
    {
     "name": "stdout",
     "output_type": "stream",
     "text": [
      "Age Group: Teenager\n"
     ]
    }
   ],
   "source": [
    "age = int(input(\"Enter your age: \"))\n",
    "\n",
    "if 0 <= age <= 12:\n",
    "    age_group = \"Child\"\n",
    "elif 13 <= age <= 19:\n",
    "    age_group = \"Teenager\"\n",
    "elif 20 <= age <= 59:\n",
    "    age_group = \"Adult\"\n",
    "elif age >= 60:\n",
    "    age_group = \"Senior Citizen\"\n",
    "else:\n",
    "    age_group = \"Invalid age\"\n",
    "print(f\"Age Group: {age_group}\")\n"
   ]
  },
  {
   "cell_type": "markdown",
   "id": "50d45e1d-2fad-4faa-8401-5f42d0be26e3",
   "metadata": {},
   "source": [
    "6. Write a program that prompts the user to input a number from 1 to 7. The program\n",
    "should display the corresponding day for the given number. For example, if the user\n",
    "types 1, the output should be Sunday. If the user types 7, the output should be\n",
    "Saturday. If the number is not between 1 to 7 user should get error message as shown\n",
    "in sample output."
   ]
  },
  {
   "cell_type": "code",
   "execution_count": 21,
   "id": "75be7f64-22c7-41c5-a930-517bb49f1888",
   "metadata": {},
   "outputs": [
    {
     "name": "stdin",
     "output_type": "stream",
     "text": [
      "Enter a number (1 to 7):  7\n"
     ]
    },
    {
     "name": "stdout",
     "output_type": "stream",
     "text": [
      "Saturday\n"
     ]
    }
   ],
   "source": [
    "day_number = int(input(\"Enter a number (1 to 7): \"))\n",
    "\n",
    "if day_number == 1:\n",
    "    day = \"Sunday\"\n",
    "elif day_number == 2:\n",
    "    day = \"Monday\"\n",
    "elif day_number == 3:\n",
    "    day = \"Tuesday\"\n",
    "elif day_number == 4:\n",
    "    day = \"Wednesday\"\n",
    "elif day_number == 5:\n",
    "    day = \"Thursday\"\n",
    "elif day_number == 6:\n",
    "    day = \"Friday\"\n",
    "elif day_number == 7:\n",
    "    day = \"Saturday\"\n",
    "else:\n",
    "    day = \"Error: Invalid number. Please enter a number between 1 and 7.\"\n",
    "\n",
    "print(day)\n"
   ]
  },
  {
   "cell_type": "markdown",
   "id": "23962206-ca23-4746-88b7-dcce12b2ae68",
   "metadata": {},
   "source": [
    "7. Write a program that prompts the user to enter their weight (in kilograms) and height\n",
    "(in meters). The program should calculate the Body Mass Index (BMI) using the formula:\n",
    "BMI = weight / (height * height). The program should then classify the BMI into one of\n",
    "the following categories:\n",
    "less than 18.5 - Underweight\n",
    "BMI between 18.5 and 24.9 - Normal weight\n",
    "BMI between 25 and 29.9 - Overweight\n",
    "BMI 30 or greater - Obesity"
   ]
  },
  {
   "cell_type": "code",
   "execution_count": 24,
   "id": "72808c03-4c22-440d-a5ba-b9fbca113217",
   "metadata": {},
   "outputs": [
    {
     "name": "stdin",
     "output_type": "stream",
     "text": [
      "Enter your weight in kilograms:  10\n",
      "Enter your height in meters:  10\n"
     ]
    },
    {
     "name": "stdout",
     "output_type": "stream",
     "text": [
      "Your BMI is: 0.10\n",
      "BMI Category: Underweight\n"
     ]
    }
   ],
   "source": [
    "weight = float(input(\"Enter your weight in kilograms: \"))\n",
    "height = float(input(\"Enter your height in meters: \"))\n",
    "\n",
    "bmi = weight / (height ** 2)\n",
    "\n",
    "if bmi < 18.5:\n",
    "    category = \"Underweight\"\n",
    "elif 18.5 <= bmi <= 24.9:\n",
    "    category = \"Normal weight\"\n",
    "elif 25 <= bmi <= 29.9:\n",
    "    category = \"Overweight\"\n",
    "else:\n",
    "    category = \"Obesity\"\n",
    "\n",
    "print(f\"Your BMI is: {bmi:.2f}\")\n",
    "print(f\"BMI Category: {category}\")\n"
   ]
  },
  {
   "cell_type": "code",
   "execution_count": null,
   "id": "71f2d4bb-49cd-496c-86b0-ff2fd7d5f8d8",
   "metadata": {},
   "outputs": [],
   "source": []
  }
 ],
 "metadata": {
  "kernelspec": {
   "display_name": "Python 3 (ipykernel)",
   "language": "python",
   "name": "python3"
  },
  "language_info": {
   "codemirror_mode": {
    "name": "ipython",
    "version": 3
   },
   "file_extension": ".py",
   "mimetype": "text/x-python",
   "name": "python",
   "nbconvert_exporter": "python",
   "pygments_lexer": "ipython3",
   "version": "3.12.7"
  }
 },
 "nbformat": 4,
 "nbformat_minor": 5
}
