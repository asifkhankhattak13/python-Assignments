{
 "cells": [
  {
   "cell_type": "markdown",
   "id": "cd34b6c1-2d8c-452a-8584-34bac741b7f7",
   "metadata": {},
   "source": [
    "1. Write a Python program to create a class called \"Person\" with properties for\n",
    "name, age and country. Include a method to display the person's details. Create\n",
    "two instances of the 'Person' class and display their details."
   ]
  },
  {
   "cell_type": "code",
   "execution_count": 17,
   "id": "4d028e85-95d4-41de-bec5-63c82a4b5830",
   "metadata": {},
   "outputs": [
    {
     "name": "stdout",
     "output_type": "stream",
     "text": [
      "Name: Asif\n",
      "Age: 30\n",
      "Country: Karachi\n",
      "Name: Babar\n",
      "Age: 25\n",
      "Country: Korangi\n"
     ]
    }
   ],
   "source": [
    "class Person:\n",
    "    def __init__(self, name, age, country):\n",
    "        self.name = name\n",
    "        self.age = age\n",
    "        self.country = country\n",
    "\n",
    "    def display_details(self):\n",
    "        print(f\"Name: {self.name}\")\n",
    "        print(f\"Age: {self.age}\")\n",
    "        print(f\"Country: {self.country}\")\n",
    "\n",
    "person1 = Person(\"Asif\", 30, \"Karachi\")\n",
    "person2 = Person(\"Babar\", 25, \"Korangi\")\n",
    "\n",
    "person1.display_details()\n",
    "person2.display_details()"
   ]
  },
  {
   "cell_type": "markdown",
   "id": "88e3bae6-1b9b-4eb0-b890-4341ff4bd0fc",
   "metadata": {},
   "source": [
    "2. Write a Python program to create a class called 'Rectangle' with properties for\n",
    "width and height. Include two methods to calculate rectangle area and perimeter.\n",
    "Create an instance of the 'Rectangle' class and calculate its area and perimeter."
   ]
  },
  {
   "cell_type": "code",
   "execution_count": 31,
   "id": "7fe5ae41-a295-4a43-b104-41495a702146",
   "metadata": {},
   "outputs": [],
   "source": [
    "class Rectangle():\n",
    "    def __init__ (self, width, height):\n",
    "        self.width = width\n",
    "        self.height = height\n",
    "\n",
    "    def calculate_area(self):\n",
    "        return self.width * self.height \n",
    "        \n",
    "    def calculate_perimeter(self):\n",
    "        return  2*(self.width + self.height)\n",
    "\n",
    "Rect1 = Rectangle(10,20)\n"
   ]
  },
  {
   "cell_type": "code",
   "execution_count": 53,
   "id": "60d31aeb-b794-468a-8811-b87cb8a12bcc",
   "metadata": {},
   "outputs": [
    {
     "data": {
      "text/plain": [
       "200"
      ]
     },
     "execution_count": 53,
     "metadata": {},
     "output_type": "execute_result"
    }
   ],
   "source": [
    "Rect1.calculate_area() "
   ]
  },
  {
   "cell_type": "code",
   "execution_count": 55,
   "id": "993e8f63-3490-4b5f-86a4-f52118042776",
   "metadata": {},
   "outputs": [
    {
     "data": {
      "text/plain": [
       "60"
      ]
     },
     "execution_count": 55,
     "metadata": {},
     "output_type": "execute_result"
    }
   ],
   "source": [
    "Rect1.calculate_perimeter()"
   ]
  },
  {
   "cell_type": "markdown",
   "id": "087aff1f-3fda-4918-ada0-10dfac51930d",
   "metadata": {},
   "source": [
    "3. Write a Python program that creates a class called 'Vehicle' with properties for\n",
    "make, model, and year. Include a method to display vehicle details. Create a\n",
    "subclass called 'Car' that inherits from the 'Vehicle' class and includes an\n",
    "additional property for the number of doors. Override the display method to\n",
    "include the number of doors."
   ]
  },
  {
   "cell_type": "code",
   "execution_count": 63,
   "id": "9397d50e-ba7a-47fa-a692-71e7c44397c9",
   "metadata": {},
   "outputs": [],
   "source": [
    "class Vehicle():\n",
    "    def __init__(self, make,model,year):\n",
    "        self.make = make\n",
    "        self.model = model\n",
    "        self.year = year\n",
    "    def Vehicle_Details(self):\n",
    "        print(f\" {self.make} {self.model} {self.year}\")"
   ]
  },
  {
   "cell_type": "code",
   "execution_count": 65,
   "id": "a2e1a390-158a-497c-9014-ee18e049877b",
   "metadata": {},
   "outputs": [],
   "source": [
    "v1= Vehicle(\"Honda\", \"yaris\", 2024)"
   ]
  },
  {
   "cell_type": "code",
   "execution_count": 71,
   "id": "cdcf4a69-529c-4511-be2d-0979a08015d6",
   "metadata": {},
   "outputs": [
    {
     "data": {
      "text/plain": [
       "'yaris'"
      ]
     },
     "execution_count": 71,
     "metadata": {},
     "output_type": "execute_result"
    }
   ],
   "source": [
    "v1.model"
   ]
  },
  {
   "cell_type": "markdown",
   "id": "040fab2d-020f-4742-91d1-7c9ac378aa19",
   "metadata": {},
   "source": [
    "4. Write a Python program that creates a class called \"BankAccount\" with\n",
    "properties for account number and balance. Include methods to deposit and\n",
    "withdraw money from the account. Create some instances of the \"BankAccount\"\n",
    "class, deposit some money, and withdraw a portion of it."
   ]
  },
  {
   "cell_type": "code",
   "execution_count": 3,
   "id": "afad7de3-e88a-460a-ae9e-6b713fa959da",
   "metadata": {},
   "outputs": [],
   "source": [
    "class BankAccount():\n",
    "    def __init__(self,account_number,balance):\n",
    "        self.account_number = account_number\n",
    "        self.balance = balance\n",
    "\n",
    "    def deposit(self,amount):\n",
    "        if amount >0 :\n",
    "            self.balance += amount\n",
    "            print(f\"Deposited {amount} The total amount is {self.balance}\")\n",
    "        else:\n",
    "            print(\"The amount deposited must be positive\")\n",
    "\n",
    "    def withdraw(self,amount):\n",
    "        if amount < self.balance:\n",
    "            self.balance -=amount \n",
    "            print(f\" Withdraw Amount {amount} The remaining Balance is {self.balance}\")\n",
    "        else:\n",
    "            print(\"The amount must be less than the account balance\")"
   ]
  },
  {
   "cell_type": "code",
   "execution_count": 5,
   "id": "49cb1b9c-2a70-497a-a6d7-411492b79655",
   "metadata": {},
   "outputs": [
    {
     "name": "stdout",
     "output_type": "stream",
     "text": [
      "Deposited 600 The total amount is 1100\n",
      "Deposited 200 The total amount is 300\n",
      " Withdraw Amount 200 The remaining Balance is 900\n",
      " Withdraw Amount 100 The remaining Balance is 200\n"
     ]
    }
   ],
   "source": [
    "account1 = BankAccount(4045, 500)\n",
    "account2 = BankAccount(4045, 100)\n",
    "\n",
    "account1.deposit(600)\n",
    "account2.deposit(200)\n",
    "\n",
    "account1.withdraw(200)\n",
    "account2.withdraw(100)"
   ]
  },
  {
   "cell_type": "markdown",
   "id": "b8fe6e48-3312-4bc0-9376-329a94047bb0",
   "metadata": {},
   "source": [
    "5. Write a Python program that creates a class called 'Shape' with a method to\n",
    "calculate the area. Create two subclasses, 'Circle' and 'Triangle', that inherit from\n",
    "the 'Shape' class and override the area calculation method. Create an instance of\n",
    "the 'Circle' class and calculate its area. Similarly, do the same for the 'Triangle'\n",
    "class."
   ]
  },
  {
   "cell_type": "code",
   "execution_count": 45,
   "id": "2adfe085-76dd-402f-8e0e-992cc37e1911",
   "metadata": {},
   "outputs": [],
   "source": [
    "import math\n",
    "\n",
    "class Shape:\n",
    "    def area(self):\n",
    "        raise \n",
    "        \n",
    "class Circle(Shape):\n",
    "    def __init__(self,radius):\n",
    "        self.radius = radius\n",
    "\n",
    "    def area(self):\n",
    "        return math.pi * self.radius**2\n",
    "        \n",
    "class Triangle(Shape):\n",
    "    def __init__(self,base, height):\n",
    "        self.base = base\n",
    "        self.height = height\n",
    "\n",
    "    def area(self):\n",
    "        return 0.5 * self.base * self.height"
   ]
  },
  {
   "cell_type": "code",
   "execution_count": 53,
   "id": "969a77d2-9a43-45c5-97eb-9a9d2887f718",
   "metadata": {},
   "outputs": [
    {
     "data": {
      "text/plain": [
       "78.53981633974483"
      ]
     },
     "execution_count": 53,
     "metadata": {},
     "output_type": "execute_result"
    }
   ],
   "source": [
    "c1= Circle(5)\n",
    "c1.area()\n"
   ]
  },
  {
   "cell_type": "code",
   "execution_count": 55,
   "id": "0a52d559-fdea-468e-849b-6912dbfce767",
   "metadata": {},
   "outputs": [
    {
     "data": {
      "text/plain": [
       "100.0"
      ]
     },
     "execution_count": 55,
     "metadata": {},
     "output_type": "execute_result"
    }
   ],
   "source": [
    "T1= Triangle(10,20)\n",
    "T1.area()"
   ]
  },
  {
   "cell_type": "markdown",
   "id": "1039be7c-340d-40bd-b999-d437177c10d6",
   "metadata": {},
   "source": [
    "6. Write a Python program that creates a class called 'Employee' with properties\n",
    "for name and salary. Include a method to calculate annual salary. Create a\n",
    "subclass called 'Manager' that inherits from the 'Employee' class and adds an\n",
    "additional property for department. Override the annual salary calculation method\n",
    "to include bonuses for managers. Create two instances of the 'Manager' class\n",
    "and calculate their annual salary."
   ]
  },
  {
   "cell_type": "code",
   "execution_count": 69,
   "id": "2ff782f1-ce8a-464d-81e2-7ef02e944c8c",
   "metadata": {},
   "outputs": [],
   "source": [
    "class Employees():\n",
    "    def __init__(self,name,salary):\n",
    "        self.name = name\n",
    "        self.salary = salary \n",
    "\n",
    "    def annual_salary(self):\n",
    "        return 12 * self.salary \n",
    "\n",
    "class Manager(Employees):\n",
    "    def __init__(self,name, salary, department, Bonus):\n",
    "        super().__init__(name,salary)\n",
    "        self.department = department \n",
    "        self.Bonus = Bonus\n",
    "\n",
    "    def annual_salary(self):\n",
    "        return (12* self.salary) + self.Bonus     "
   ]
  },
  {
   "cell_type": "code",
   "execution_count": 65,
   "id": "870dd351-0218-41f9-b588-bdda50019200",
   "metadata": {},
   "outputs": [
    {
     "data": {
      "text/plain": [
       "600"
      ]
     },
     "execution_count": 65,
     "metadata": {},
     "output_type": "execute_result"
    }
   ],
   "source": [
    "E1 = Employees('mak', 50)\n",
    "E1.annual_salary()"
   ]
  },
  {
   "cell_type": "code",
   "execution_count": 71,
   "id": "bc9fccee-1dbe-4096-9d8c-ab9c803006e6",
   "metadata": {},
   "outputs": [
    {
     "data": {
      "text/plain": [
       "1300"
      ]
     },
     "execution_count": 71,
     "metadata": {},
     "output_type": "execute_result"
    }
   ],
   "source": [
    "M1= Manager('asif',100,'engr',100)\n",
    "M1.annual_salary()"
   ]
  },
  {
   "cell_type": "markdown",
   "id": "14544b4b-48ed-440a-ab13-c685333be46c",
   "metadata": {},
   "source": [
    "7. Write a Python program that creates a class `Book` with properties for title,\n",
    "author, and publication year. Include a method to display book details. Create a\n",
    "subclass called 'Ebook' that inherits from the 'Book' class and includes an\n",
    "additional property for book price. Override the display method to include the\n",
    "book price. Create an instance of the 'Ebook' class and display its details."
   ]
  },
  {
   "cell_type": "code",
   "execution_count": 87,
   "id": "3ce99264-2bb4-45a6-acaa-1ac3546ee1c9",
   "metadata": {},
   "outputs": [],
   "source": [
    "class Book():\n",
    "    def __init__(self,title,author,publications_year):\n",
    "        self.title = title\n",
    "        self.author = author\n",
    "        self.publications_year = publications_year\n",
    "\n",
    "    def display(self):\n",
    "        print(f\" {self.title} {self.author} {self.publications_year}\")\n",
    "        \n",
    "class Ebook(Book):\n",
    "    def __init__(self,title,author,publications_year,book_price):\n",
    "        super().__init__(title,author,publications_year)\n",
    "        self.book_price = book_price\n",
    "\n",
    "    def display(self):\n",
    "        print(f\"{self.title} {self.author} {self.publications_year} {self.book_price}\")\n",
    "    "
   ]
  },
  {
   "cell_type": "code",
   "execution_count": 79,
   "id": "eda3c5d0-4dc8-466b-9da1-a255a4d3c027",
   "metadata": {},
   "outputs": [
    {
     "name": "stdout",
     "output_type": "stream",
     "text": [
      " anokhi kitab aurangzeb 2022\n"
     ]
    }
   ],
   "source": [
    "B1= Book('anokhi kitab', 'aurangzeb', 2022)\n",
    "B1.display()"
   ]
  },
  {
   "cell_type": "code",
   "execution_count": 89,
   "id": "611d0e9e-1d93-4738-bd91-3ee58e0afb31",
   "metadata": {},
   "outputs": [
    {
     "name": "stdout",
     "output_type": "stream",
     "text": [
      "anokhi kitab aurangzeb 2022 200\n"
     ]
    }
   ],
   "source": [
    "E1= Ebook('anokhi kitab', 'aurangzeb', 2022, 200)\n",
    "E1.display()"
   ]
  },
  {
   "cell_type": "markdown",
   "id": "2834ac42-12c1-43a2-b062-7eb07c19fce2",
   "metadata": {},
   "source": [
    "8. Write a Python program that creates a class called 'Animal' with properties for\n",
    "species and sound. Include a method to make the animal's sound. Create a\n",
    "subclass called 'Dog' that inherits from the 'Animal' class and adds an additional\n",
    "property for color. Override the make sound method to include the dog's color.\n",
    "Create an instance of the 'Dog' class and make it make its sound."
   ]
  },
  {
   "cell_type": "code",
   "execution_count": 107,
   "id": "3fe5883c-5055-435d-a996-e2086851e6ad",
   "metadata": {},
   "outputs": [],
   "source": [
    "class Animal():\n",
    "    def __init__(self,species,sound):\n",
    "        self.species = species\n",
    "        self.sound = sound\n",
    "\n",
    "    def Make_sound (self):\n",
    "        print(self.sound )\n",
    "\n",
    "class Dog(Animal):\n",
    "    def __init__(self, species,sound, color):\n",
    "        super().__init__(species,sound)\n",
    "        self.color = color\n",
    "\n",
    "    def Make_sound(self):\n",
    "        print(self.sound)"
   ]
  },
  {
   "cell_type": "code",
   "execution_count": 109,
   "id": "feacca96-dd25-4de8-a831-252fcba06466",
   "metadata": {},
   "outputs": [
    {
     "name": "stdout",
     "output_type": "stream",
     "text": [
      "woof\n"
     ]
    }
   ],
   "source": [
    "A1 = Animal('pitbull', 'woof')\n",
    "A1.Make_sound()"
   ]
  },
  {
   "cell_type": "code",
   "execution_count": 115,
   "id": "e31674ef-c116-479f-9cc6-c524d1b9ffe0",
   "metadata": {},
   "outputs": [
    {
     "name": "stdout",
     "output_type": "stream",
     "text": [
      "woof\n"
     ]
    }
   ],
   "source": [
    "D1= Dog('pitbull', 'woof','black')\n",
    "D1.Make_sound()"
   ]
  },
  {
   "cell_type": "markdown",
   "id": "6b60a367-b1a5-4a62-bcf7-5420ab841461",
   "metadata": {},
   "source": [
    "9. Write a Python program that creates a class called Bank with properties for\n",
    "bank names and branches. Include methods to add a branch, remove a branch,\n",
    "and display all branches. Create an instance of the Bank class and perform\n",
    "operations to add and remove branches."
   ]
  },
  {
   "cell_type": "code",
   "execution_count": 1,
   "id": "4d8dbeb4-cd2f-4f9e-8788-6af19df1378d",
   "metadata": {},
   "outputs": [
    {
     "name": "stdout",
     "output_type": "stream",
     "text": [
      "Branch 'Main Branch' added.\n",
      "Branch 'Downtown Branch' added.\n",
      "Branch 'Uptown Branch' added.\n",
      "Branches of ABC Bank Bank:\n",
      "- Main Branch\n",
      "- Downtown Branch\n",
      "- Uptown Branch\n",
      "Branch 'Downtown Branch' removed.\n",
      "Branches of ABC Bank Bank:\n",
      "- Main Branch\n",
      "- Uptown Branch\n",
      "Branch 'City Center Branch' not found.\n"
     ]
    }
   ],
   "source": [
    "class Bank:\n",
    "    def __init__(self, name):\n",
    "        self.name = name  \n",
    "        self.branches = [] \n",
    "\n",
    "    def add_branch(self, branch_name):\n",
    "        if branch_name not in self.branches:\n",
    "            self.branches.append(branch_name)\n",
    "            print(f\"Branch '{branch_name}' added.\")\n",
    "        else:\n",
    "            print(f\"Branch '{branch_name}' already exists.\")\n",
    "    \n",
    "    def remove_branch(self, branch_name):\n",
    "        if branch_name in self.branches:\n",
    "            self.branches.remove(branch_name)\n",
    "            print(f\"Branch '{branch_name}' removed.\")\n",
    "        else:\n",
    "            print(f\"Branch '{branch_name}' not found.\")\n",
    "    \n",
    "    def display_branches(self):\n",
    "        if self.branches:\n",
    "            print(f\"Branches of {self.name} Bank:\")\n",
    "            for branch in self.branches:\n",
    "                print(f\"- {branch}\")\n",
    "        else:\n",
    "            print(f\"No branches available for {self.name} Bank.\")\n",
    "\n",
    "my_bank = Bank(\"ABC Bank\")\n",
    "\n",
    "my_bank.add_branch(\"Main Branch\")\n",
    "my_bank.add_branch(\"Downtown Branch\")\n",
    "my_bank.add_branch(\"Uptown Branch\")\n",
    "\n",
    "my_bank.display_branches()\n",
    "\n",
    "my_bank.remove_branch(\"Downtown Branch\")\n",
    "\n",
    "my_bank.display_branches()\n",
    "\n",
    "my_bank.remove_branch(\"City Center Branch\")\n"
   ]
  },
  {
   "cell_type": "markdown",
   "id": "bff19dd3-03bc-4103-ae76-169869643358",
   "metadata": {},
   "source": [
    "10. Write a Python program that creates a class called Product with properties for\n",
    "product ID, name, and price. Include a method to calculate the total price by\n",
    "multiplying the price by the quantity. Create a subclass called\n",
    "PersonalCareProduct that inherits from the Product class and adds an additional\n",
    "property for the warranty period. Override the total price calculation method to\n",
    "include the warranty period. Create an instance of the PersonalCareProduct\n",
    "class and calculate its total price."
   ]
  },
  {
   "cell_type": "code",
   "execution_count": 3,
   "id": "6acb272c-d406-48d3-a1c1-84ecb86c04cb",
   "metadata": {},
   "outputs": [
    {
     "name": "stdout",
     "output_type": "stream",
     "text": [
      "Total price for 3 units of 'Shampoo' with warranty period of 2 months is: $48.97\n"
     ]
    }
   ],
   "source": [
    "class Product:\n",
    "    def __init__(self, product_id, name, price):\n",
    "        self.product_id = product_id  \n",
    "        self.name = name  \n",
    "        self.price = price  \n",
    "\n",
    "    def total_price(self, quantity):\n",
    "        return self.price * quantity\n",
    "\n",
    "class PersonalCareProduct(Product):\n",
    "    def __init__(self, product_id, name, price, warranty_period):\n",
    "        super().__init__(product_id, name, price)  \n",
    "        self.warranty_period = warranty_period  \n",
    "\n",
    "    def total_price(self, quantity):\n",
    "        warranty_cost = 5 * self.warranty_period\n",
    "        total_cost = (self.price * quantity) + warranty_cost\n",
    "        return total_cost\n",
    "\n",
    "product = PersonalCareProduct(101, \"Shampoo\", 12.99, 2)\n",
    "\n",
    "quantity = 3\n",
    "total = product.total_price(quantity)\n",
    "\n",
    "print(f\"Total price for {quantity} units of '{product.name}' with warranty period of {product.warranty_period} months is: ${total:.2f}\")\n"
   ]
  },
  {
   "cell_type": "markdown",
   "id": "f7b1f495-0699-41f5-b191-fb02218e2cbc",
   "metadata": {},
   "source": [
    "11. Write a Python program that creates a class called BankAccount with\n",
    "properties for account number, account holder name, and balance. Include\n",
    "methods to deposit, withdraw, and transfer money between accounts. Create\n",
    "multiple instances of the BankAccount class and perform operations such as\n",
    "depositing, withdrawing, and transferring money."
   ]
  },
  {
   "cell_type": "code",
   "execution_count": 5,
   "id": "7c78fd7a-8ea0-40bf-b612-f1ec87e1595b",
   "metadata": {},
   "outputs": [
    {
     "name": "stdout",
     "output_type": "stream",
     "text": [
      "Deposited $500. New balance: $1500\n",
      "Withdrew $100. New balance: $400\n",
      "Transferred $200 to account 987654.\n",
      "New balance: $1300\n",
      "Target account balance: $600\n",
      "Final balance of Alice's account: $1300\n",
      "Final balance of Bob's account: $600\n"
     ]
    }
   ],
   "source": [
    "class BankAccount:\n",
    "    def __init__(self, account_number, account_holder_name, balance=0):\n",
    "        self.account_number = account_number  \n",
    "        self.account_holder_name = account_holder_name\n",
    "        self.balance = balance  \n",
    "\n",
    "    def deposit(self, amount):\n",
    "        if amount > 0:\n",
    "            self.balance += amount\n",
    "            print(f\"Deposited ${amount}. New balance: ${self.balance}\")\n",
    "        else:\n",
    "            print(\"Deposit amount must be positive.\")\n",
    "\n",
    "    def withdraw(self, amount):\n",
    "        if amount > 0 and amount <= self.balance:\n",
    "            self.balance -= amount\n",
    "            print(f\"Withdrew ${amount}. New balance: ${self.balance}\")\n",
    "        elif amount > self.balance:\n",
    "            print(\"Insufficient funds.\")\n",
    "        else:\n",
    "            print(\"Withdrawal amount must be positive.\")\n",
    "\n",
    "    def transfer(self, amount, target_account):\n",
    "        if amount > 0 and amount <= self.balance:\n",
    "            self.balance -= amount\n",
    "            target_account.balance += amount\n",
    "            print(f\"Transferred ${amount} to account {target_account.account_number}.\")\n",
    "            print(f\"New balance: ${self.balance}\")\n",
    "            print(f\"Target account balance: ${target_account.balance}\")\n",
    "        elif amount > self.balance:\n",
    "            print(\"Insufficient funds for transfer.\")\n",
    "        else:\n",
    "            print(\"Transfer amount must be positive.\")\n",
    "\n",
    "account1 = BankAccount(\"123456\", \"Alice\", 1000)\n",
    "account2 = BankAccount(\"987654\", \"Bob\", 500)\n",
    "\n",
    "account1.deposit(500)\n",
    "\n",
    "account2.withdraw(100)\n",
    "\n",
    "account1.transfer(200, account2)\n",
    "\n",
    "print(f\"Final balance of Alice's account: ${account1.balance}\")\n",
    "print(f\"Final balance of Bob's account: ${account2.balance}\")\n"
   ]
  },
  {
   "cell_type": "markdown",
   "id": "9a6b6165-651e-4330-9a3e-dd77a8c45269",
   "metadata": {},
   "source": [
    "12. Write a Python program that creates a class called University with properties\n",
    "for university name and departments. Include methods to add a department,\n",
    "remove a department, and display all departments. Create an instance of the\n",
    "University class and add and remove departments."
   ]
  },
  {
   "cell_type": "code",
   "execution_count": 9,
   "id": "769c327f-c846-4f95-81dd-ae68d965b300",
   "metadata": {},
   "outputs": [
    {
     "name": "stdout",
     "output_type": "stream",
     "text": [
      "Department 'Computer Science' added.\n",
      "Department 'Electrical Engineering' added.\n",
      "Department 'Mechanical Engineering' added.\n",
      "Departments at Tech University:\n",
      "- Computer Science\n",
      "- Electrical Engineering\n",
      "- Mechanical Engineering\n",
      "Department 'Electrical Engineering' removed.\n",
      "Departments at Tech University:\n",
      "- Computer Science\n",
      "- Mechanical Engineering\n",
      "Department 'Civil Engineering' not found.\n"
     ]
    }
   ],
   "source": [
    "class University:\n",
    "    def __init__(self, university_name):\n",
    "        self.university_name = university_name \n",
    "        self.departments = []  \n",
    "\n",
    "    def add_department(self, department_name):\n",
    "        if department_name not in self.departments:\n",
    "            self.departments.append(department_name)\n",
    "            print(f\"Department '{department_name}' added.\")\n",
    "        else:\n",
    "            print(f\"Department '{department_name}' already exists.\")\n",
    "\n",
    "    def remove_department(self, department_name):\n",
    "        if department_name in self.departments:\n",
    "            self.departments.remove(department_name)\n",
    "            print(f\"Department '{department_name}' removed.\")\n",
    "        else:\n",
    "            print(f\"Department '{department_name}' not found.\")\n",
    "\n",
    "    def display_departments(self):\n",
    "        if self.departments:\n",
    "            print(f\"Departments at {self.university_name}:\")\n",
    "            for department in self.departments:\n",
    "                print(f\"- {department}\")\n",
    "        else:\n",
    "            print(f\"No departments available at {self.university_name}.\")\n",
    "\n",
    "university = University(\"Tech University\")\n",
    "\n",
    "university.add_department(\"Computer Science\")\n",
    "university.add_department(\"Electrical Engineering\")\n",
    "university.add_department(\"Mechanical Engineering\")\n",
    "\n",
    "university.display_departments()\n",
    "\n",
    "university.remove_department(\"Electrical Engineering\")\n",
    "\n",
    "university.display_departments()\n",
    "\n",
    "university.remove_department(\"Civil Engineering\")\n"
   ]
  },
  {
   "cell_type": "code",
   "execution_count": null,
   "id": "685614b2-1435-4b6f-9457-6683c353529c",
   "metadata": {},
   "outputs": [],
   "source": []
  }
 ],
 "metadata": {
  "kernelspec": {
   "display_name": "Python 3 (ipykernel)",
   "language": "python",
   "name": "python3"
  },
  "language_info": {
   "codemirror_mode": {
    "name": "ipython",
    "version": 3
   },
   "file_extension": ".py",
   "mimetype": "text/x-python",
   "name": "python",
   "nbconvert_exporter": "python",
   "pygments_lexer": "ipython3",
   "version": "3.12.7"
  }
 },
 "nbformat": 4,
 "nbformat_minor": 5
}
