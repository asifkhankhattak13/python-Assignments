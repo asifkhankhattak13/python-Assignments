{
 "cells": [
  {
   "cell_type": "code",
   "execution_count": 38,
   "id": "b2e52c58-a6a0-4e79-97d4-f1f3fa2c9fee",
   "metadata": {},
   "outputs": [],
   "source": [
    "import pandas as pd \n",
    "import numpy as np"
   ]
  },
  {
   "cell_type": "code",
   "execution_count": 48,
   "id": "58e8227a-6006-4e41-8628-f7820fad3b07",
   "metadata": {},
   "outputs": [
    {
     "data": {
      "text/html": [
       "<div>\n",
       "<style scoped>\n",
       "    .dataframe tbody tr th:only-of-type {\n",
       "        vertical-align: middle;\n",
       "    }\n",
       "\n",
       "    .dataframe tbody tr th {\n",
       "        vertical-align: top;\n",
       "    }\n",
       "\n",
       "    .dataframe thead th {\n",
       "        text-align: right;\n",
       "    }\n",
       "</style>\n",
       "<table border=\"1\" class=\"dataframe\">\n",
       "  <thead>\n",
       "    <tr style=\"text-align: right;\">\n",
       "      <th></th>\n",
       "      <th>ReviewID</th>\n",
       "      <th>CustomerID</th>\n",
       "      <th>ProductID</th>\n",
       "      <th>ReviewDate</th>\n",
       "      <th>Rating</th>\n",
       "      <th>ReviewText</th>\n",
       "    </tr>\n",
       "  </thead>\n",
       "  <tbody>\n",
       "    <tr>\n",
       "      <th>0</th>\n",
       "      <td>1</td>\n",
       "      <td>77</td>\n",
       "      <td>18</td>\n",
       "      <td>2023-12-23</td>\n",
       "      <td>3</td>\n",
       "      <td>Average  experience,  nothing  special.</td>\n",
       "    </tr>\n",
       "    <tr>\n",
       "      <th>1</th>\n",
       "      <td>2</td>\n",
       "      <td>80</td>\n",
       "      <td>19</td>\n",
       "      <td>2024-12-25</td>\n",
       "      <td>5</td>\n",
       "      <td>The  quality  is    top-notch.</td>\n",
       "    </tr>\n",
       "    <tr>\n",
       "      <th>2</th>\n",
       "      <td>3</td>\n",
       "      <td>50</td>\n",
       "      <td>13</td>\n",
       "      <td>2025-01-26</td>\n",
       "      <td>4</td>\n",
       "      <td>Five  stars  for  the  quick  delivery.</td>\n",
       "    </tr>\n",
       "    <tr>\n",
       "      <th>3</th>\n",
       "      <td>4</td>\n",
       "      <td>78</td>\n",
       "      <td>15</td>\n",
       "      <td>2025-04-21</td>\n",
       "      <td>3</td>\n",
       "      <td>Good  quality,  but  could  be  cheaper.</td>\n",
       "    </tr>\n",
       "    <tr>\n",
       "      <th>4</th>\n",
       "      <td>5</td>\n",
       "      <td>64</td>\n",
       "      <td>2</td>\n",
       "      <td>2023-07-16</td>\n",
       "      <td>3</td>\n",
       "      <td>Average  experience,  nothing  special.</td>\n",
       "    </tr>\n",
       "    <tr>\n",
       "      <th>...</th>\n",
       "      <td>...</td>\n",
       "      <td>...</td>\n",
       "      <td>...</td>\n",
       "      <td>...</td>\n",
       "      <td>...</td>\n",
       "      <td>...</td>\n",
       "    </tr>\n",
       "    <tr>\n",
       "      <th>1358</th>\n",
       "      <td>1359</td>\n",
       "      <td>28</td>\n",
       "      <td>4</td>\n",
       "      <td>2023-05-25</td>\n",
       "      <td>3</td>\n",
       "      <td>Not  worth  the  money.</td>\n",
       "    </tr>\n",
       "    <tr>\n",
       "      <th>1359</th>\n",
       "      <td>1360</td>\n",
       "      <td>58</td>\n",
       "      <td>12</td>\n",
       "      <td>2023-11-13</td>\n",
       "      <td>2</td>\n",
       "      <td>Average    experience,  nothing  special.</td>\n",
       "    </tr>\n",
       "    <tr>\n",
       "      <th>1360</th>\n",
       "      <td>1361</td>\n",
       "      <td>96</td>\n",
       "      <td>15</td>\n",
       "      <td>2023-03-07</td>\n",
       "      <td>5</td>\n",
       "      <td>Customer  support  was  very  helpful.</td>\n",
       "    </tr>\n",
       "    <tr>\n",
       "      <th>1361</th>\n",
       "      <td>1362</td>\n",
       "      <td>99</td>\n",
       "      <td>2</td>\n",
       "      <td>2025-12-03</td>\n",
       "      <td>1</td>\n",
       "      <td>Product  did  not  meet  my  expectations.</td>\n",
       "    </tr>\n",
       "    <tr>\n",
       "      <th>1362</th>\n",
       "      <td>1363</td>\n",
       "      <td>16</td>\n",
       "      <td>4</td>\n",
       "      <td>2024-07-16</td>\n",
       "      <td>2</td>\n",
       "      <td>The  product  arrived  late.</td>\n",
       "    </tr>\n",
       "  </tbody>\n",
       "</table>\n",
       "<p>1363 rows × 6 columns</p>\n",
       "</div>"
      ],
      "text/plain": [
       "      ReviewID  CustomerID  ProductID ReviewDate  Rating  \\\n",
       "0            1          77         18 2023-12-23       3   \n",
       "1            2          80         19 2024-12-25       5   \n",
       "2            3          50         13 2025-01-26       4   \n",
       "3            4          78         15 2025-04-21       3   \n",
       "4            5          64          2 2023-07-16       3   \n",
       "...        ...         ...        ...        ...     ...   \n",
       "1358      1359          28          4 2023-05-25       3   \n",
       "1359      1360          58         12 2023-11-13       2   \n",
       "1360      1361          96         15 2023-03-07       5   \n",
       "1361      1362          99          2 2025-12-03       1   \n",
       "1362      1363          16          4 2024-07-16       2   \n",
       "\n",
       "                                      ReviewText  \n",
       "0        Average  experience,  nothing  special.  \n",
       "1                 The  quality  is    top-notch.  \n",
       "2        Five  stars  for  the  quick  delivery.  \n",
       "3       Good  quality,  but  could  be  cheaper.  \n",
       "4        Average  experience,  nothing  special.  \n",
       "...                                          ...  \n",
       "1358                     Not  worth  the  money.  \n",
       "1359   Average    experience,  nothing  special.  \n",
       "1360      Customer  support  was  very  helpful.  \n",
       "1361  Product  did  not  meet  my  expectations.  \n",
       "1362                The  product  arrived  late.  \n",
       "\n",
       "[1363 rows x 6 columns]"
      ]
     },
     "execution_count": 48,
     "metadata": {},
     "output_type": "execute_result"
    }
   ],
   "source": [
    "### 1\n",
    "customers = pd.read_excel(\"customer_reviews.xlsx\")\n",
    "customers"
   ]
  },
  {
   "cell_type": "code",
   "execution_count": 50,
   "id": "b65bb78f-bef3-47b7-bf0d-af8194c87ce4",
   "metadata": {},
   "outputs": [
    {
     "data": {
      "text/html": [
       "<div>\n",
       "<style scoped>\n",
       "    .dataframe tbody tr th:only-of-type {\n",
       "        vertical-align: middle;\n",
       "    }\n",
       "\n",
       "    .dataframe tbody tr th {\n",
       "        vertical-align: top;\n",
       "    }\n",
       "\n",
       "    .dataframe thead th {\n",
       "        text-align: right;\n",
       "    }\n",
       "</style>\n",
       "<table border=\"1\" class=\"dataframe\">\n",
       "  <thead>\n",
       "    <tr style=\"text-align: right;\">\n",
       "      <th></th>\n",
       "      <th>ProductID</th>\n",
       "      <th>ProductName</th>\n",
       "      <th>Category</th>\n",
       "      <th>Price</th>\n",
       "    </tr>\n",
       "  </thead>\n",
       "  <tbody>\n",
       "    <tr>\n",
       "      <th>0</th>\n",
       "      <td>1</td>\n",
       "      <td>Running Shoes</td>\n",
       "      <td>Sports</td>\n",
       "      <td>223.75</td>\n",
       "    </tr>\n",
       "    <tr>\n",
       "      <th>1</th>\n",
       "      <td>2</td>\n",
       "      <td>Fitness Tracker</td>\n",
       "      <td>Sports</td>\n",
       "      <td>196.68</td>\n",
       "    </tr>\n",
       "    <tr>\n",
       "      <th>2</th>\n",
       "      <td>3</td>\n",
       "      <td>Yoga Mat</td>\n",
       "      <td>Sports</td>\n",
       "      <td>485.32</td>\n",
       "    </tr>\n",
       "    <tr>\n",
       "      <th>3</th>\n",
       "      <td>4</td>\n",
       "      <td>Dumbbells</td>\n",
       "      <td>Sports</td>\n",
       "      <td>26.21</td>\n",
       "    </tr>\n",
       "    <tr>\n",
       "      <th>4</th>\n",
       "      <td>5</td>\n",
       "      <td>Soccer Ball</td>\n",
       "      <td>Sports</td>\n",
       "      <td>41.26</td>\n",
       "    </tr>\n",
       "    <tr>\n",
       "      <th>5</th>\n",
       "      <td>6</td>\n",
       "      <td>Tennis Racket</td>\n",
       "      <td>Sports</td>\n",
       "      <td>36.07</td>\n",
       "    </tr>\n",
       "    <tr>\n",
       "      <th>6</th>\n",
       "      <td>7</td>\n",
       "      <td>Basketball</td>\n",
       "      <td>Sports</td>\n",
       "      <td>225.12</td>\n",
       "    </tr>\n",
       "    <tr>\n",
       "      <th>7</th>\n",
       "      <td>8</td>\n",
       "      <td>Football Helmet</td>\n",
       "      <td>Sports</td>\n",
       "      <td>44.75</td>\n",
       "    </tr>\n",
       "    <tr>\n",
       "      <th>8</th>\n",
       "      <td>9</td>\n",
       "      <td>Baseball Glove</td>\n",
       "      <td>Sports</td>\n",
       "      <td>327.36</td>\n",
       "    </tr>\n",
       "    <tr>\n",
       "      <th>9</th>\n",
       "      <td>10</td>\n",
       "      <td>Golf Clubs</td>\n",
       "      <td>Sports</td>\n",
       "      <td>81.59</td>\n",
       "    </tr>\n",
       "    <tr>\n",
       "      <th>10</th>\n",
       "      <td>11</td>\n",
       "      <td>Ski Boots</td>\n",
       "      <td>Sports</td>\n",
       "      <td>340.20</td>\n",
       "    </tr>\n",
       "    <tr>\n",
       "      <th>11</th>\n",
       "      <td>12</td>\n",
       "      <td>Ice Skates</td>\n",
       "      <td>Sports</td>\n",
       "      <td>37.56</td>\n",
       "    </tr>\n",
       "    <tr>\n",
       "      <th>12</th>\n",
       "      <td>13</td>\n",
       "      <td>Swim Goggles</td>\n",
       "      <td>Sports</td>\n",
       "      <td>145.97</td>\n",
       "    </tr>\n",
       "    <tr>\n",
       "      <th>13</th>\n",
       "      <td>14</td>\n",
       "      <td>Cycling Helmet</td>\n",
       "      <td>Sports</td>\n",
       "      <td>472.32</td>\n",
       "    </tr>\n",
       "    <tr>\n",
       "      <th>14</th>\n",
       "      <td>15</td>\n",
       "      <td>Climbing Rope</td>\n",
       "      <td>Sports</td>\n",
       "      <td>410.17</td>\n",
       "    </tr>\n",
       "    <tr>\n",
       "      <th>15</th>\n",
       "      <td>16</td>\n",
       "      <td>Kayak</td>\n",
       "      <td>Sports</td>\n",
       "      <td>259.40</td>\n",
       "    </tr>\n",
       "    <tr>\n",
       "      <th>16</th>\n",
       "      <td>17</td>\n",
       "      <td>Surfboard</td>\n",
       "      <td>Sports</td>\n",
       "      <td>275.43</td>\n",
       "    </tr>\n",
       "    <tr>\n",
       "      <th>17</th>\n",
       "      <td>18</td>\n",
       "      <td>Volleyball</td>\n",
       "      <td>Sports</td>\n",
       "      <td>42.80</td>\n",
       "    </tr>\n",
       "    <tr>\n",
       "      <th>18</th>\n",
       "      <td>19</td>\n",
       "      <td>Hockey Stick</td>\n",
       "      <td>Sports</td>\n",
       "      <td>173.83</td>\n",
       "    </tr>\n",
       "    <tr>\n",
       "      <th>19</th>\n",
       "      <td>20</td>\n",
       "      <td>Boxing Gloves</td>\n",
       "      <td>Sports</td>\n",
       "      <td>262.32</td>\n",
       "    </tr>\n",
       "  </tbody>\n",
       "</table>\n",
       "</div>"
      ],
      "text/plain": [
       "    ProductID      ProductName Category   Price\n",
       "0           1    Running Shoes   Sports  223.75\n",
       "1           2  Fitness Tracker   Sports  196.68\n",
       "2           3         Yoga Mat   Sports  485.32\n",
       "3           4        Dumbbells   Sports   26.21\n",
       "4           5      Soccer Ball   Sports   41.26\n",
       "5           6    Tennis Racket   Sports   36.07\n",
       "6           7       Basketball   Sports  225.12\n",
       "7           8  Football Helmet   Sports   44.75\n",
       "8           9   Baseball Glove   Sports  327.36\n",
       "9          10       Golf Clubs   Sports   81.59\n",
       "10         11        Ski Boots   Sports  340.20\n",
       "11         12       Ice Skates   Sports   37.56\n",
       "12         13     Swim Goggles   Sports  145.97\n",
       "13         14   Cycling Helmet   Sports  472.32\n",
       "14         15    Climbing Rope   Sports  410.17\n",
       "15         16            Kayak   Sports  259.40\n",
       "16         17        Surfboard   Sports  275.43\n",
       "17         18       Volleyball   Sports   42.80\n",
       "18         19     Hockey Stick   Sports  173.83\n",
       "19         20    Boxing Gloves   Sports  262.32"
      ]
     },
     "execution_count": 50,
     "metadata": {},
     "output_type": "execute_result"
    }
   ],
   "source": [
    "###2\n",
    "products = pd.read_excel(\"products.xlsx\")\n",
    "products"
   ]
  },
  {
   "cell_type": "code",
   "execution_count": 52,
   "id": "b87715ad-a7cd-4877-b2f4-dfd30380e1ea",
   "metadata": {},
   "outputs": [
    {
     "data": {
      "text/plain": [
       "array(['Running Shoes', 'Fitness Tracker', 'Yoga Mat', 'Dumbbells',\n",
       "       'Soccer Ball', 'Tennis Racket', 'Basketball', 'Football Helmet',\n",
       "       'Baseball Glove', 'Golf Clubs', 'Ski Boots', 'Ice Skates',\n",
       "       'Swim Goggles', 'Cycling Helmet', 'Climbing Rope', 'Kayak',\n",
       "       'Surfboard', 'Volleyball', 'Hockey Stick', 'Boxing Gloves'],\n",
       "      dtype=object)"
      ]
     },
     "execution_count": 52,
     "metadata": {},
     "output_type": "execute_result"
    }
   ],
   "source": [
    "products.ProductName.unique()"
   ]
  },
  {
   "cell_type": "code",
   "execution_count": 54,
   "id": "eb9ce5a5-b7f8-40e5-b1f5-b0c98dc37392",
   "metadata": {},
   "outputs": [
    {
     "data": {
      "text/plain": [
       "array(['Sports'], dtype=object)"
      ]
     },
     "execution_count": 54,
     "metadata": {},
     "output_type": "execute_result"
    }
   ],
   "source": [
    "products.Category.unique()"
   ]
  },
  {
   "cell_type": "code",
   "execution_count": 56,
   "id": "9ce9b912-87a0-42ba-a9b3-94af2e0b3e77",
   "metadata": {},
   "outputs": [
    {
     "data": {
      "text/plain": [
       "0"
      ]
     },
     "execution_count": 56,
     "metadata": {},
     "output_type": "execute_result"
    }
   ],
   "source": [
    "products.duplicated().sum()"
   ]
  },
  {
   "cell_type": "code",
   "execution_count": 58,
   "id": "4350e4f7-5774-40ea-9dd3-2b382309db7e",
   "metadata": {},
   "outputs": [
    {
     "data": {
      "text/plain": [
       "ProductID      0\n",
       "ProductName    0\n",
       "Category       0\n",
       "Price          0\n",
       "dtype: int64"
      ]
     },
     "execution_count": 58,
     "metadata": {},
     "output_type": "execute_result"
    }
   ],
   "source": [
    "products.isna().sum()"
   ]
  },
  {
   "cell_type": "code",
   "execution_count": 60,
   "id": "cefcff01-08c2-4bc8-943b-923c34c0c465",
   "metadata": {},
   "outputs": [
    {
     "data": {
      "text/plain": [
       "(20, 4)"
      ]
     },
     "execution_count": 60,
     "metadata": {},
     "output_type": "execute_result"
    }
   ],
   "source": [
    "products.shape"
   ]
  },
  {
   "cell_type": "code",
   "execution_count": 62,
   "id": "9d5d77a5-fc20-4a48-9611-f8949805d0f4",
   "metadata": {},
   "outputs": [
    {
     "data": {
      "text/html": [
       "<div>\n",
       "<style scoped>\n",
       "    .dataframe tbody tr th:only-of-type {\n",
       "        vertical-align: middle;\n",
       "    }\n",
       "\n",
       "    .dataframe tbody tr th {\n",
       "        vertical-align: top;\n",
       "    }\n",
       "\n",
       "    .dataframe thead th {\n",
       "        text-align: right;\n",
       "    }\n",
       "</style>\n",
       "<table border=\"1\" class=\"dataframe\">\n",
       "  <thead>\n",
       "    <tr style=\"text-align: right;\">\n",
       "      <th></th>\n",
       "      <th>ID</th>\n",
       "      <th>Region</th>\n",
       "      <th>City</th>\n",
       "    </tr>\n",
       "  </thead>\n",
       "  <tbody>\n",
       "    <tr>\n",
       "      <th>0</th>\n",
       "      <td>1</td>\n",
       "      <td>UK</td>\n",
       "      <td>London</td>\n",
       "    </tr>\n",
       "    <tr>\n",
       "      <th>1</th>\n",
       "      <td>2</td>\n",
       "      <td>Germany</td>\n",
       "      <td>Berlin</td>\n",
       "    </tr>\n",
       "    <tr>\n",
       "      <th>2</th>\n",
       "      <td>3</td>\n",
       "      <td>France</td>\n",
       "      <td>Paris</td>\n",
       "    </tr>\n",
       "    <tr>\n",
       "      <th>3</th>\n",
       "      <td>4</td>\n",
       "      <td>Spain</td>\n",
       "      <td>Madrid</td>\n",
       "    </tr>\n",
       "    <tr>\n",
       "      <th>4</th>\n",
       "      <td>5</td>\n",
       "      <td>Italy</td>\n",
       "      <td>Rome</td>\n",
       "    </tr>\n",
       "    <tr>\n",
       "      <th>5</th>\n",
       "      <td>6</td>\n",
       "      <td>Netherlands</td>\n",
       "      <td>Amsterdam</td>\n",
       "    </tr>\n",
       "    <tr>\n",
       "      <th>6</th>\n",
       "      <td>7</td>\n",
       "      <td>Belgium</td>\n",
       "      <td>Brussels</td>\n",
       "    </tr>\n",
       "    <tr>\n",
       "      <th>7</th>\n",
       "      <td>8</td>\n",
       "      <td>Sweden</td>\n",
       "      <td>Stockholm</td>\n",
       "    </tr>\n",
       "    <tr>\n",
       "      <th>8</th>\n",
       "      <td>9</td>\n",
       "      <td>Switzerland</td>\n",
       "      <td>Zurich</td>\n",
       "    </tr>\n",
       "    <tr>\n",
       "      <th>9</th>\n",
       "      <td>10</td>\n",
       "      <td>Austria</td>\n",
       "      <td>Vienna</td>\n",
       "    </tr>\n",
       "  </tbody>\n",
       "</table>\n",
       "</div>"
      ],
      "text/plain": [
       "   ID       Region       City\n",
       "0   1           UK     London\n",
       "1   2      Germany     Berlin\n",
       "2   3       France      Paris\n",
       "3   4        Spain     Madrid\n",
       "4   5        Italy       Rome\n",
       "5   6  Netherlands  Amsterdam\n",
       "6   7      Belgium   Brussels\n",
       "7   8       Sweden  Stockholm\n",
       "8   9  Switzerland     Zurich\n",
       "9  10      Austria     Vienna"
      ]
     },
     "execution_count": 62,
     "metadata": {},
     "output_type": "execute_result"
    }
   ],
   "source": [
    "# 3- Customers' Geography Data\n",
    "geography = pd.read_excel(\"geography.xlsx\")\n",
    "geography"
   ]
  },
  {
   "cell_type": "code",
   "execution_count": 64,
   "id": "3143b22e-bbc1-4142-9b72-83ffe915e331",
   "metadata": {},
   "outputs": [
    {
     "data": {
      "text/html": [
       "<div>\n",
       "<style scoped>\n",
       "    .dataframe tbody tr th:only-of-type {\n",
       "        vertical-align: middle;\n",
       "    }\n",
       "\n",
       "    .dataframe tbody tr th {\n",
       "        vertical-align: top;\n",
       "    }\n",
       "\n",
       "    .dataframe thead th {\n",
       "        text-align: right;\n",
       "    }\n",
       "</style>\n",
       "<table border=\"1\" class=\"dataframe\">\n",
       "  <thead>\n",
       "    <tr style=\"text-align: right;\">\n",
       "      <th></th>\n",
       "      <th>ReviewID</th>\n",
       "      <th>CustomerID</th>\n",
       "      <th>ProductID</th>\n",
       "      <th>ReviewDate</th>\n",
       "      <th>Rating</th>\n",
       "      <th>ReviewText</th>\n",
       "    </tr>\n",
       "  </thead>\n",
       "  <tbody>\n",
       "    <tr>\n",
       "      <th>0</th>\n",
       "      <td>1</td>\n",
       "      <td>77</td>\n",
       "      <td>18</td>\n",
       "      <td>2023-12-23</td>\n",
       "      <td>3</td>\n",
       "      <td>Average  experience,  nothing  special.</td>\n",
       "    </tr>\n",
       "    <tr>\n",
       "      <th>1</th>\n",
       "      <td>2</td>\n",
       "      <td>80</td>\n",
       "      <td>19</td>\n",
       "      <td>2024-12-25</td>\n",
       "      <td>5</td>\n",
       "      <td>The  quality  is    top-notch.</td>\n",
       "    </tr>\n",
       "    <tr>\n",
       "      <th>2</th>\n",
       "      <td>3</td>\n",
       "      <td>50</td>\n",
       "      <td>13</td>\n",
       "      <td>2025-01-26</td>\n",
       "      <td>4</td>\n",
       "      <td>Five  stars  for  the  quick  delivery.</td>\n",
       "    </tr>\n",
       "    <tr>\n",
       "      <th>3</th>\n",
       "      <td>4</td>\n",
       "      <td>78</td>\n",
       "      <td>15</td>\n",
       "      <td>2025-04-21</td>\n",
       "      <td>3</td>\n",
       "      <td>Good  quality,  but  could  be  cheaper.</td>\n",
       "    </tr>\n",
       "    <tr>\n",
       "      <th>4</th>\n",
       "      <td>5</td>\n",
       "      <td>64</td>\n",
       "      <td>2</td>\n",
       "      <td>2023-07-16</td>\n",
       "      <td>3</td>\n",
       "      <td>Average  experience,  nothing  special.</td>\n",
       "    </tr>\n",
       "    <tr>\n",
       "      <th>...</th>\n",
       "      <td>...</td>\n",
       "      <td>...</td>\n",
       "      <td>...</td>\n",
       "      <td>...</td>\n",
       "      <td>...</td>\n",
       "      <td>...</td>\n",
       "    </tr>\n",
       "    <tr>\n",
       "      <th>1358</th>\n",
       "      <td>1359</td>\n",
       "      <td>28</td>\n",
       "      <td>4</td>\n",
       "      <td>2023-05-25</td>\n",
       "      <td>3</td>\n",
       "      <td>Not  worth  the  money.</td>\n",
       "    </tr>\n",
       "    <tr>\n",
       "      <th>1359</th>\n",
       "      <td>1360</td>\n",
       "      <td>58</td>\n",
       "      <td>12</td>\n",
       "      <td>2023-11-13</td>\n",
       "      <td>2</td>\n",
       "      <td>Average    experience,  nothing  special.</td>\n",
       "    </tr>\n",
       "    <tr>\n",
       "      <th>1360</th>\n",
       "      <td>1361</td>\n",
       "      <td>96</td>\n",
       "      <td>15</td>\n",
       "      <td>2023-03-07</td>\n",
       "      <td>5</td>\n",
       "      <td>Customer  support  was  very  helpful.</td>\n",
       "    </tr>\n",
       "    <tr>\n",
       "      <th>1361</th>\n",
       "      <td>1362</td>\n",
       "      <td>99</td>\n",
       "      <td>2</td>\n",
       "      <td>2025-12-03</td>\n",
       "      <td>1</td>\n",
       "      <td>Product  did  not  meet  my  expectations.</td>\n",
       "    </tr>\n",
       "    <tr>\n",
       "      <th>1362</th>\n",
       "      <td>1363</td>\n",
       "      <td>16</td>\n",
       "      <td>4</td>\n",
       "      <td>2024-07-16</td>\n",
       "      <td>2</td>\n",
       "      <td>The  product  arrived  late.</td>\n",
       "    </tr>\n",
       "  </tbody>\n",
       "</table>\n",
       "<p>1363 rows × 6 columns</p>\n",
       "</div>"
      ],
      "text/plain": [
       "      ReviewID  CustomerID  ProductID ReviewDate  Rating  \\\n",
       "0            1          77         18 2023-12-23       3   \n",
       "1            2          80         19 2024-12-25       5   \n",
       "2            3          50         13 2025-01-26       4   \n",
       "3            4          78         15 2025-04-21       3   \n",
       "4            5          64          2 2023-07-16       3   \n",
       "...        ...         ...        ...        ...     ...   \n",
       "1358      1359          28          4 2023-05-25       3   \n",
       "1359      1360          58         12 2023-11-13       2   \n",
       "1360      1361          96         15 2023-03-07       5   \n",
       "1361      1362          99          2 2025-12-03       1   \n",
       "1362      1363          16          4 2024-07-16       2   \n",
       "\n",
       "                                      ReviewText  \n",
       "0        Average  experience,  nothing  special.  \n",
       "1                 The  quality  is    top-notch.  \n",
       "2        Five  stars  for  the  quick  delivery.  \n",
       "3       Good  quality,  but  could  be  cheaper.  \n",
       "4        Average  experience,  nothing  special.  \n",
       "...                                          ...  \n",
       "1358                     Not  worth  the  money.  \n",
       "1359   Average    experience,  nothing  special.  \n",
       "1360      Customer  support  was  very  helpful.  \n",
       "1361  Product  did  not  meet  my  expectations.  \n",
       "1362                The  product  arrived  late.  \n",
       "\n",
       "[1363 rows x 6 columns]"
      ]
     },
     "execution_count": 64,
     "metadata": {},
     "output_type": "execute_result"
    }
   ],
   "source": [
    "# 4- Customers' Review Data\n",
    "reviews  = pd.read_excel(\"customer_reviews.xlsx\")\n",
    "reviews"
   ]
  },
  {
   "cell_type": "code",
   "execution_count": 66,
   "id": "f275b833-d75c-40d8-89d9-5e2544c86c02",
   "metadata": {},
   "outputs": [
    {
     "data": {
      "text/plain": [
       "0"
      ]
     },
     "execution_count": 66,
     "metadata": {},
     "output_type": "execute_result"
    }
   ],
   "source": [
    "reviews.duplicated().sum()"
   ]
  },
  {
   "cell_type": "code",
   "execution_count": 68,
   "id": "ffb6ec2f-2a10-40ed-acf8-c26d2a52124f",
   "metadata": {},
   "outputs": [
    {
     "data": {
      "text/plain": [
       "ReviewID      0\n",
       "CustomerID    0\n",
       "ProductID     0\n",
       "ReviewDate    0\n",
       "Rating        0\n",
       "ReviewText    0\n",
       "dtype: int64"
      ]
     },
     "execution_count": 68,
     "metadata": {},
     "output_type": "execute_result"
    }
   ],
   "source": [
    "reviews.isna().sum()"
   ]
  },
  {
   "cell_type": "code",
   "execution_count": 72,
   "id": "843d3f95-1bd3-433a-8817-3196c7f53316",
   "metadata": {},
   "outputs": [
    {
     "data": {
      "text/html": [
       "<div>\n",
       "<style scoped>\n",
       "    .dataframe tbody tr th:only-of-type {\n",
       "        vertical-align: middle;\n",
       "    }\n",
       "\n",
       "    .dataframe tbody tr th {\n",
       "        vertical-align: top;\n",
       "    }\n",
       "\n",
       "    .dataframe thead th {\n",
       "        text-align: right;\n",
       "    }\n",
       "</style>\n",
       "<table border=\"1\" class=\"dataframe\">\n",
       "  <thead>\n",
       "    <tr style=\"text-align: right;\">\n",
       "      <th></th>\n",
       "      <th>EngagementID</th>\n",
       "      <th>ContentID</th>\n",
       "      <th>ContentType</th>\n",
       "      <th>Likes</th>\n",
       "      <th>EngagementDate</th>\n",
       "      <th>CompaignID</th>\n",
       "      <th>ProductID</th>\n",
       "      <th>ViewsClickCombined</th>\n",
       "    </tr>\n",
       "  </thead>\n",
       "  <tbody>\n",
       "    <tr>\n",
       "      <th>0</th>\n",
       "      <td>1</td>\n",
       "      <td>39</td>\n",
       "      <td>Blog</td>\n",
       "      <td>190</td>\n",
       "      <td>2023-08-30</td>\n",
       "      <td>1</td>\n",
       "      <td>9</td>\n",
       "      <td>1883-671</td>\n",
       "    </tr>\n",
       "    <tr>\n",
       "      <th>1</th>\n",
       "      <td>2</td>\n",
       "      <td>48</td>\n",
       "      <td>Blog</td>\n",
       "      <td>114</td>\n",
       "      <td>2023-03-28</td>\n",
       "      <td>18</td>\n",
       "      <td>20</td>\n",
       "      <td>5280-532</td>\n",
       "    </tr>\n",
       "    <tr>\n",
       "      <th>2</th>\n",
       "      <td>3</td>\n",
       "      <td>16</td>\n",
       "      <td>video</td>\n",
       "      <td>32</td>\n",
       "      <td>2023-12-08</td>\n",
       "      <td>7</td>\n",
       "      <td>14</td>\n",
       "      <td>1905-204</td>\n",
       "    </tr>\n",
       "    <tr>\n",
       "      <th>3</th>\n",
       "      <td>4</td>\n",
       "      <td>43</td>\n",
       "      <td>Video</td>\n",
       "      <td>17</td>\n",
       "      <td>2025-01-21</td>\n",
       "      <td>19</td>\n",
       "      <td>20</td>\n",
       "      <td>2766-257</td>\n",
       "    </tr>\n",
       "    <tr>\n",
       "      <th>4</th>\n",
       "      <td>5</td>\n",
       "      <td>16</td>\n",
       "      <td>newsletter</td>\n",
       "      <td>306</td>\n",
       "      <td>2024-02-21</td>\n",
       "      <td>6</td>\n",
       "      <td>15</td>\n",
       "      <td>5116-1524</td>\n",
       "    </tr>\n",
       "    <tr>\n",
       "      <th>...</th>\n",
       "      <td>...</td>\n",
       "      <td>...</td>\n",
       "      <td>...</td>\n",
       "      <td>...</td>\n",
       "      <td>...</td>\n",
       "      <td>...</td>\n",
       "      <td>...</td>\n",
       "      <td>...</td>\n",
       "    </tr>\n",
       "    <tr>\n",
       "      <th>4618</th>\n",
       "      <td>4619</td>\n",
       "      <td>31</td>\n",
       "      <td>Video</td>\n",
       "      <td>270</td>\n",
       "      <td>2023-05-21</td>\n",
       "      <td>3</td>\n",
       "      <td>19</td>\n",
       "      <td>8115-1872</td>\n",
       "    </tr>\n",
       "    <tr>\n",
       "      <th>4619</th>\n",
       "      <td>4620</td>\n",
       "      <td>46</td>\n",
       "      <td>newsletter</td>\n",
       "      <td>209</td>\n",
       "      <td>2023-07-17</td>\n",
       "      <td>8</td>\n",
       "      <td>4</td>\n",
       "      <td>1273-516</td>\n",
       "    </tr>\n",
       "    <tr>\n",
       "      <th>4620</th>\n",
       "      <td>4621</td>\n",
       "      <td>10</td>\n",
       "      <td>video</td>\n",
       "      <td>78</td>\n",
       "      <td>2023-05-24</td>\n",
       "      <td>20</td>\n",
       "      <td>7</td>\n",
       "      <td>1609-599</td>\n",
       "    </tr>\n",
       "    <tr>\n",
       "      <th>4621</th>\n",
       "      <td>4622</td>\n",
       "      <td>6</td>\n",
       "      <td>socialmedia</td>\n",
       "      <td>50</td>\n",
       "      <td>2024-04-14</td>\n",
       "      <td>18</td>\n",
       "      <td>2</td>\n",
       "      <td>3052-374</td>\n",
       "    </tr>\n",
       "    <tr>\n",
       "      <th>4622</th>\n",
       "      <td>4623</td>\n",
       "      <td>31</td>\n",
       "      <td>BLOG</td>\n",
       "      <td>133</td>\n",
       "      <td>2023-09-01</td>\n",
       "      <td>2</td>\n",
       "      <td>17</td>\n",
       "      <td>2458-457</td>\n",
       "    </tr>\n",
       "  </tbody>\n",
       "</table>\n",
       "<p>4623 rows × 8 columns</p>\n",
       "</div>"
      ],
      "text/plain": [
       "      EngagementID  ContentID  ContentType  Likes EngagementDate  CompaignID  \\\n",
       "0                1         39         Blog    190     2023-08-30           1   \n",
       "1                2         48         Blog    114     2023-03-28          18   \n",
       "2                3         16        video     32     2023-12-08           7   \n",
       "3                4         43        Video     17     2025-01-21          19   \n",
       "4                5         16   newsletter    306     2024-02-21           6   \n",
       "...            ...        ...          ...    ...            ...         ...   \n",
       "4618          4619         31        Video    270     2023-05-21           3   \n",
       "4619          4620         46   newsletter    209     2023-07-17           8   \n",
       "4620          4621         10        video     78     2023-05-24          20   \n",
       "4621          4622          6  socialmedia     50     2024-04-14          18   \n",
       "4622          4623         31         BLOG    133     2023-09-01           2   \n",
       "\n",
       "      ProductID ViewsClickCombined  \n",
       "0             9           1883-671  \n",
       "1            20           5280-532  \n",
       "2            14           1905-204  \n",
       "3            20           2766-257  \n",
       "4            15          5116-1524  \n",
       "...         ...                ...  \n",
       "4618         19          8115-1872  \n",
       "4619          4           1273-516  \n",
       "4620          7           1609-599  \n",
       "4621          2           3052-374  \n",
       "4622         17           2458-457  \n",
       "\n",
       "[4623 rows x 8 columns]"
      ]
     },
     "execution_count": 72,
     "metadata": {},
     "output_type": "execute_result"
    }
   ],
   "source": [
    "# 5- Customers' Engagement Data\n",
    "engagement = pd.read_excel(\"engagement_data.xlsx\")\n",
    "engagement"
   ]
  },
  {
   "cell_type": "code",
   "execution_count": 74,
   "id": "f764e3d3-6b5b-4cec-8f9e-5ef0327a379a",
   "metadata": {},
   "outputs": [
    {
     "data": {
      "text/plain": [
       "0"
      ]
     },
     "execution_count": 74,
     "metadata": {},
     "output_type": "execute_result"
    }
   ],
   "source": [
    "engagement.duplicated().sum()"
   ]
  },
  {
   "cell_type": "code",
   "execution_count": 76,
   "id": "b6c1d541-210f-48a0-855f-b72a49f466d6",
   "metadata": {},
   "outputs": [
    {
     "data": {
      "text/plain": [
       "EngagementID          0\n",
       "ContentID             0\n",
       "ContentType           0\n",
       "Likes                 0\n",
       "EngagementDate        0\n",
       "CompaignID            0\n",
       "ProductID             0\n",
       "ViewsClickCombined    0\n",
       "dtype: int64"
      ]
     },
     "execution_count": 76,
     "metadata": {},
     "output_type": "execute_result"
    }
   ],
   "source": [
    "engagement.isna().sum()"
   ]
  },
  {
   "cell_type": "code",
   "execution_count": 78,
   "id": "4c5263ce-b954-4c98-aea1-11d65009527c",
   "metadata": {},
   "outputs": [
    {
     "data": {
      "text/plain": [
       "(4011, 7)"
      ]
     },
     "execution_count": 78,
     "metadata": {},
     "output_type": "execute_result"
    }
   ],
   "source": [
    "# Customers' Journey\n",
    "customer_journey_df = pd.read_excel('customer_journey.xlsx')\n",
    "customer_journey_df.shape"
   ]
  },
  {
   "cell_type": "code",
   "execution_count": 80,
   "id": "17b1a052-2ed8-4af2-b6dd-5288ba23d274",
   "metadata": {},
   "outputs": [
    {
     "data": {
      "text/plain": [
       "71"
      ]
     },
     "execution_count": 80,
     "metadata": {},
     "output_type": "execute_result"
    }
   ],
   "source": [
    "customer_journey_df.duplicated().sum()"
   ]
  },
  {
   "cell_type": "code",
   "execution_count": 82,
   "id": "8a0055d9-a32c-4e5e-8e9c-860c8daa5644",
   "metadata": {},
   "outputs": [
    {
     "data": {
      "text/html": [
       "<div>\n",
       "<style scoped>\n",
       "    .dataframe tbody tr th:only-of-type {\n",
       "        vertical-align: middle;\n",
       "    }\n",
       "\n",
       "    .dataframe tbody tr th {\n",
       "        vertical-align: top;\n",
       "    }\n",
       "\n",
       "    .dataframe thead th {\n",
       "        text-align: right;\n",
       "    }\n",
       "</style>\n",
       "<table border=\"1\" class=\"dataframe\">\n",
       "  <thead>\n",
       "    <tr style=\"text-align: right;\">\n",
       "      <th></th>\n",
       "      <th>JourneyID</th>\n",
       "      <th>CustomerID</th>\n",
       "      <th>ProductId</th>\n",
       "      <th>VisitDate</th>\n",
       "      <th>Stage</th>\n",
       "      <th>Action</th>\n",
       "      <th>Duration</th>\n",
       "    </tr>\n",
       "  </thead>\n",
       "  <tbody>\n",
       "    <tr>\n",
       "      <th>3993</th>\n",
       "      <td>23</td>\n",
       "      <td>58</td>\n",
       "      <td>1</td>\n",
       "      <td>2023-07-05</td>\n",
       "      <td>Homepage</td>\n",
       "      <td>View</td>\n",
       "      <td>48.0</td>\n",
       "    </tr>\n",
       "    <tr>\n",
       "      <th>3939</th>\n",
       "      <td>203</td>\n",
       "      <td>44</td>\n",
       "      <td>11</td>\n",
       "      <td>2024-12-28</td>\n",
       "      <td>Homepage</td>\n",
       "      <td>View</td>\n",
       "      <td>230.0</td>\n",
       "    </tr>\n",
       "    <tr>\n",
       "      <th>3940</th>\n",
       "      <td>404</td>\n",
       "      <td>30</td>\n",
       "      <td>13</td>\n",
       "      <td>2023-04-22</td>\n",
       "      <td>Homepage</td>\n",
       "      <td>View</td>\n",
       "      <td>112.0</td>\n",
       "    </tr>\n",
       "    <tr>\n",
       "      <th>3979</th>\n",
       "      <td>443</td>\n",
       "      <td>98</td>\n",
       "      <td>5</td>\n",
       "      <td>2023-09-04</td>\n",
       "      <td>Checkout</td>\n",
       "      <td>Drop-off</td>\n",
       "      <td>NaN</td>\n",
       "    </tr>\n",
       "    <tr>\n",
       "      <th>3995</th>\n",
       "      <td>494</td>\n",
       "      <td>29</td>\n",
       "      <td>6</td>\n",
       "      <td>2024-10-27</td>\n",
       "      <td>Checkout</td>\n",
       "      <td>Drop-off</td>\n",
       "      <td>NaN</td>\n",
       "    </tr>\n",
       "    <tr>\n",
       "      <th>...</th>\n",
       "      <td>...</td>\n",
       "      <td>...</td>\n",
       "      <td>...</td>\n",
       "      <td>...</td>\n",
       "      <td>...</td>\n",
       "      <td>...</td>\n",
       "      <td>...</td>\n",
       "    </tr>\n",
       "    <tr>\n",
       "      <th>3967</th>\n",
       "      <td>3781</td>\n",
       "      <td>54</td>\n",
       "      <td>8</td>\n",
       "      <td>2025-04-14</td>\n",
       "      <td>Homepage</td>\n",
       "      <td>View</td>\n",
       "      <td>250.0</td>\n",
       "    </tr>\n",
       "    <tr>\n",
       "      <th>3983</th>\n",
       "      <td>3852</td>\n",
       "      <td>99</td>\n",
       "      <td>5</td>\n",
       "      <td>2025-09-07</td>\n",
       "      <td>ProductPage</td>\n",
       "      <td>View</td>\n",
       "      <td>205.0</td>\n",
       "    </tr>\n",
       "    <tr>\n",
       "      <th>3941</th>\n",
       "      <td>3881</td>\n",
       "      <td>58</td>\n",
       "      <td>18</td>\n",
       "      <td>2024-08-27</td>\n",
       "      <td>Checkout</td>\n",
       "      <td>Drop-off</td>\n",
       "      <td>NaN</td>\n",
       "    </tr>\n",
       "    <tr>\n",
       "      <th>3938</th>\n",
       "      <td>3912</td>\n",
       "      <td>99</td>\n",
       "      <td>9</td>\n",
       "      <td>2025-06-13</td>\n",
       "      <td>Homepage</td>\n",
       "      <td>Click</td>\n",
       "      <td>143.0</td>\n",
       "    </tr>\n",
       "    <tr>\n",
       "      <th>3957</th>\n",
       "      <td>3930</td>\n",
       "      <td>2</td>\n",
       "      <td>9</td>\n",
       "      <td>2024-09-22</td>\n",
       "      <td>Homepage</td>\n",
       "      <td>Click</td>\n",
       "      <td>260.0</td>\n",
       "    </tr>\n",
       "  </tbody>\n",
       "</table>\n",
       "<p>71 rows × 7 columns</p>\n",
       "</div>"
      ],
      "text/plain": [
       "      JourneyID  CustomerID  ProductId  VisitDate        Stage    Action  \\\n",
       "3993         23          58          1 2023-07-05     Homepage      View   \n",
       "3939        203          44         11 2024-12-28     Homepage      View   \n",
       "3940        404          30         13 2023-04-22     Homepage      View   \n",
       "3979        443          98          5 2023-09-04     Checkout  Drop-off   \n",
       "3995        494          29          6 2024-10-27     Checkout  Drop-off   \n",
       "...         ...         ...        ...        ...          ...       ...   \n",
       "3967       3781          54          8 2025-04-14     Homepage      View   \n",
       "3983       3852          99          5 2025-09-07  ProductPage      View   \n",
       "3941       3881          58         18 2024-08-27     Checkout  Drop-off   \n",
       "3938       3912          99          9 2025-06-13     Homepage     Click   \n",
       "3957       3930           2          9 2024-09-22     Homepage     Click   \n",
       "\n",
       "      Duration  \n",
       "3993      48.0  \n",
       "3939     230.0  \n",
       "3940     112.0  \n",
       "3979       NaN  \n",
       "3995       NaN  \n",
       "...        ...  \n",
       "3967     250.0  \n",
       "3983     205.0  \n",
       "3941       NaN  \n",
       "3938     143.0  \n",
       "3957     260.0  \n",
       "\n",
       "[71 rows x 7 columns]"
      ]
     },
     "execution_count": 82,
     "metadata": {},
     "output_type": "execute_result"
    }
   ],
   "source": [
    "customer_journey_df[customer_journey_df.duplicated()].sort_values(by=\"JourneyID\")"
   ]
  },
  {
   "cell_type": "code",
   "execution_count": 84,
   "id": "4699a698-f0a0-416e-bf4d-c59a47cb629c",
   "metadata": {},
   "outputs": [],
   "source": [
    "customer_journey_df.drop_duplicates(keep='first', inplace=True)"
   ]
  },
  {
   "cell_type": "code",
   "execution_count": 86,
   "id": "e74e2b5e-b0ff-4c17-b004-49a992b09633",
   "metadata": {},
   "outputs": [
    {
     "data": {
      "text/plain": [
       "JourneyID       0\n",
       "CustomerID      0\n",
       "ProductId       0\n",
       "VisitDate       0\n",
       "Stage           0\n",
       "Action          0\n",
       "Duration      599\n",
       "dtype: int64"
      ]
     },
     "execution_count": 86,
     "metadata": {},
     "output_type": "execute_result"
    }
   ],
   "source": [
    "customer_journey_df.isna().sum()"
   ]
  },
  {
   "cell_type": "code",
   "execution_count": 88,
   "id": "8c1dbc6f-3ad8-4ecc-b621-bd290d7c94db",
   "metadata": {},
   "outputs": [],
   "source": [
    "# Rename columns \n",
    "customer_journey_df.columns = [\n",
    "    \"JourneyID\", \"CustomerID\", \"ProductID\", \"VisitDate\", \n",
    "    \"Stage\", \"Action\", \"Duration\"\n",
    "]"
   ]
  },
  {
   "cell_type": "code",
   "execution_count": 90,
   "id": "6d5480e4-0472-4c00-8802-bc1d199ffecd",
   "metadata": {},
   "outputs": [],
   "source": [
    "# Convert VisitDate to datetime and Duration to numeric\n",
    "customer_journey_df['VisitDate'] = pd.to_datetime(customer_journey_df['VisitDate'], errors='coerce')\n",
    "customer_journey_df['Duration'] = pd.to_numeric(customer_journey_df['Duration'], errors='coerce')"
   ]
  },
  {
   "cell_type": "code",
   "execution_count": 92,
   "id": "41410b2a-3f14-42aa-bcda-5c96ebbeaebe",
   "metadata": {},
   "outputs": [
    {
     "data": {
      "text/html": [
       "<div>\n",
       "<style scoped>\n",
       "    .dataframe tbody tr th:only-of-type {\n",
       "        vertical-align: middle;\n",
       "    }\n",
       "\n",
       "    .dataframe tbody tr th {\n",
       "        vertical-align: top;\n",
       "    }\n",
       "\n",
       "    .dataframe thead th {\n",
       "        text-align: right;\n",
       "    }\n",
       "</style>\n",
       "<table border=\"1\" class=\"dataframe\">\n",
       "  <thead>\n",
       "    <tr style=\"text-align: right;\">\n",
       "      <th></th>\n",
       "      <th>JourneyID</th>\n",
       "      <th>CustomerID</th>\n",
       "      <th>ProductID</th>\n",
       "      <th>VisitDate</th>\n",
       "      <th>Stage</th>\n",
       "      <th>Action</th>\n",
       "      <th>Duration</th>\n",
       "    </tr>\n",
       "  </thead>\n",
       "  <tbody>\n",
       "    <tr>\n",
       "      <th>0</th>\n",
       "      <td>1</td>\n",
       "      <td>64</td>\n",
       "      <td>18</td>\n",
       "      <td>2024-06-10</td>\n",
       "      <td>Checkout</td>\n",
       "      <td>Drop-off</td>\n",
       "      <td>NaN</td>\n",
       "    </tr>\n",
       "    <tr>\n",
       "      <th>1</th>\n",
       "      <td>2</td>\n",
       "      <td>94</td>\n",
       "      <td>11</td>\n",
       "      <td>2025-07-09</td>\n",
       "      <td>Checkout</td>\n",
       "      <td>Drop-off</td>\n",
       "      <td>NaN</td>\n",
       "    </tr>\n",
       "    <tr>\n",
       "      <th>2</th>\n",
       "      <td>3</td>\n",
       "      <td>34</td>\n",
       "      <td>8</td>\n",
       "      <td>2024-06-14</td>\n",
       "      <td>ProductPage</td>\n",
       "      <td>View</td>\n",
       "      <td>235.0</td>\n",
       "    </tr>\n",
       "    <tr>\n",
       "      <th>3</th>\n",
       "      <td>4</td>\n",
       "      <td>33</td>\n",
       "      <td>18</td>\n",
       "      <td>2025-05-28</td>\n",
       "      <td>Checkout</td>\n",
       "      <td>Drop-off</td>\n",
       "      <td>NaN</td>\n",
       "    </tr>\n",
       "    <tr>\n",
       "      <th>4</th>\n",
       "      <td>5</td>\n",
       "      <td>91</td>\n",
       "      <td>10</td>\n",
       "      <td>2023-02-11</td>\n",
       "      <td>Homepage</td>\n",
       "      <td>Click</td>\n",
       "      <td>156.0</td>\n",
       "    </tr>\n",
       "    <tr>\n",
       "      <th>...</th>\n",
       "      <td>...</td>\n",
       "      <td>...</td>\n",
       "      <td>...</td>\n",
       "      <td>...</td>\n",
       "      <td>...</td>\n",
       "      <td>...</td>\n",
       "      <td>...</td>\n",
       "    </tr>\n",
       "    <tr>\n",
       "      <th>3984</th>\n",
       "      <td>2655</td>\n",
       "      <td>84</td>\n",
       "      <td>4</td>\n",
       "      <td>2023-10-09</td>\n",
       "      <td>Homepage</td>\n",
       "      <td>View</td>\n",
       "      <td>146.0</td>\n",
       "    </tr>\n",
       "    <tr>\n",
       "      <th>3991</th>\n",
       "      <td>2653</td>\n",
       "      <td>86</td>\n",
       "      <td>2</td>\n",
       "      <td>2023-06-08</td>\n",
       "      <td>productpage</td>\n",
       "      <td>Click</td>\n",
       "      <td>247.0</td>\n",
       "    </tr>\n",
       "    <tr>\n",
       "      <th>3997</th>\n",
       "      <td>97</td>\n",
       "      <td>92</td>\n",
       "      <td>19</td>\n",
       "      <td>2025-05-26</td>\n",
       "      <td>Homepage</td>\n",
       "      <td>View</td>\n",
       "      <td>203.0</td>\n",
       "    </tr>\n",
       "    <tr>\n",
       "      <th>4005</th>\n",
       "      <td>3531</td>\n",
       "      <td>70</td>\n",
       "      <td>5</td>\n",
       "      <td>2025-08-04</td>\n",
       "      <td>checkout</td>\n",
       "      <td>Drop-off</td>\n",
       "      <td>NaN</td>\n",
       "    </tr>\n",
       "    <tr>\n",
       "      <th>4007</th>\n",
       "      <td>1248</td>\n",
       "      <td>17</td>\n",
       "      <td>8</td>\n",
       "      <td>2023-12-13</td>\n",
       "      <td>homepage</td>\n",
       "      <td>Click</td>\n",
       "      <td>153.0</td>\n",
       "    </tr>\n",
       "  </tbody>\n",
       "</table>\n",
       "<p>3940 rows × 7 columns</p>\n",
       "</div>"
      ],
      "text/plain": [
       "      JourneyID  CustomerID  ProductID  VisitDate        Stage    Action  \\\n",
       "0             1          64         18 2024-06-10     Checkout  Drop-off   \n",
       "1             2          94         11 2025-07-09     Checkout  Drop-off   \n",
       "2             3          34          8 2024-06-14  ProductPage      View   \n",
       "3             4          33         18 2025-05-28     Checkout  Drop-off   \n",
       "4             5          91         10 2023-02-11     Homepage     Click   \n",
       "...         ...         ...        ...        ...          ...       ...   \n",
       "3984       2655          84          4 2023-10-09     Homepage      View   \n",
       "3991       2653          86          2 2023-06-08  productpage     Click   \n",
       "3997         97          92         19 2025-05-26     Homepage      View   \n",
       "4005       3531          70          5 2025-08-04     checkout  Drop-off   \n",
       "4007       1248          17          8 2023-12-13     homepage     Click   \n",
       "\n",
       "      Duration  \n",
       "0          NaN  \n",
       "1          NaN  \n",
       "2        235.0  \n",
       "3          NaN  \n",
       "4        156.0  \n",
       "...        ...  \n",
       "3984     146.0  \n",
       "3991     247.0  \n",
       "3997     203.0  \n",
       "4005       NaN  \n",
       "4007     153.0  \n",
       "\n",
       "[3940 rows x 7 columns]"
      ]
     },
     "execution_count": 92,
     "metadata": {},
     "output_type": "execute_result"
    }
   ],
   "source": [
    "customer_journey_df"
   ]
  },
  {
   "cell_type": "code",
   "execution_count": 94,
   "id": "f2c06714-5678-477d-8bfc-a6a78ac9a255",
   "metadata": {},
   "outputs": [
    {
     "data": {
      "text/plain": [
       "0       132.333333\n",
       "1       169.250000\n",
       "2       184.250000\n",
       "3        12.000000\n",
       "4       104.600000\n",
       "           ...    \n",
       "3984    147.000000\n",
       "3991    214.000000\n",
       "3997    162.000000\n",
       "4005    203.000000\n",
       "4007    141.250000\n",
       "Name: Duration, Length: 3940, dtype: float64"
      ]
     },
     "execution_count": 94,
     "metadata": {},
     "output_type": "execute_result"
    }
   ],
   "source": [
    "# it calculates the average duration and fill against each group occurance\n",
    "customer_journey_df.groupby('VisitDate')['Duration'].transform('mean')"
   ]
  },
  {
   "cell_type": "code",
   "execution_count": 96,
   "id": "70603011-c0fd-4c0c-8254-03c6151b2e99",
   "metadata": {},
   "outputs": [
    {
     "data": {
      "text/html": [
       "<div>\n",
       "<style scoped>\n",
       "    .dataframe tbody tr th:only-of-type {\n",
       "        vertical-align: middle;\n",
       "    }\n",
       "\n",
       "    .dataframe tbody tr th {\n",
       "        vertical-align: top;\n",
       "    }\n",
       "\n",
       "    .dataframe thead th {\n",
       "        text-align: right;\n",
       "    }\n",
       "</style>\n",
       "<table border=\"1\" class=\"dataframe\">\n",
       "  <thead>\n",
       "    <tr style=\"text-align: right;\">\n",
       "      <th></th>\n",
       "      <th>Animal</th>\n",
       "      <th>Max Speed</th>\n",
       "    </tr>\n",
       "  </thead>\n",
       "  <tbody>\n",
       "    <tr>\n",
       "      <th>0</th>\n",
       "      <td>Parrot</td>\n",
       "      <td>380.0</td>\n",
       "    </tr>\n",
       "    <tr>\n",
       "      <th>1</th>\n",
       "      <td>Falcon</td>\n",
       "      <td>370.0</td>\n",
       "    </tr>\n",
       "    <tr>\n",
       "      <th>2</th>\n",
       "      <td>Falcon</td>\n",
       "      <td>NaN</td>\n",
       "    </tr>\n",
       "    <tr>\n",
       "      <th>3</th>\n",
       "      <td>Parrot</td>\n",
       "      <td>24.0</td>\n",
       "    </tr>\n",
       "    <tr>\n",
       "      <th>4</th>\n",
       "      <td>Parrot</td>\n",
       "      <td>26.0</td>\n",
       "    </tr>\n",
       "    <tr>\n",
       "      <th>5</th>\n",
       "      <td>Falcon</td>\n",
       "      <td>NaN</td>\n",
       "    </tr>\n",
       "    <tr>\n",
       "      <th>6</th>\n",
       "      <td>Parrot</td>\n",
       "      <td>NaN</td>\n",
       "    </tr>\n",
       "  </tbody>\n",
       "</table>\n",
       "</div>"
      ],
      "text/plain": [
       "   Animal  Max Speed\n",
       "0  Parrot      380.0\n",
       "1  Falcon      370.0\n",
       "2  Falcon        NaN\n",
       "3  Parrot       24.0\n",
       "4  Parrot       26.0\n",
       "5  Falcon        NaN\n",
       "6  Parrot        NaN"
      ]
     },
     "execution_count": 96,
     "metadata": {},
     "output_type": "execute_result"
    }
   ],
   "source": [
    "import numpy as np\n",
    "df = pd.DataFrame({'Animal': ['Parrot','Falcon', 'Falcon',\n",
    "                              'Parrot', 'Parrot', 'Falcon','Parrot'],\n",
    "                   'Max Speed': [380., 370.,np.nan, 24., 26.,np.nan,np.nan]})\n",
    "df"
   ]
  },
  {
   "cell_type": "code",
   "execution_count": 98,
   "id": "1e541fae-5f6c-43d4-bd96-0254a565d902",
   "metadata": {},
   "outputs": [
    {
     "data": {
      "text/html": [
       "<div>\n",
       "<style scoped>\n",
       "    .dataframe tbody tr th:only-of-type {\n",
       "        vertical-align: middle;\n",
       "    }\n",
       "\n",
       "    .dataframe tbody tr th {\n",
       "        vertical-align: top;\n",
       "    }\n",
       "\n",
       "    .dataframe thead th {\n",
       "        text-align: right;\n",
       "    }\n",
       "</style>\n",
       "<table border=\"1\" class=\"dataframe\">\n",
       "  <thead>\n",
       "    <tr style=\"text-align: right;\">\n",
       "      <th></th>\n",
       "      <th>Max Speed</th>\n",
       "    </tr>\n",
       "    <tr>\n",
       "      <th>Animal</th>\n",
       "      <th></th>\n",
       "    </tr>\n",
       "  </thead>\n",
       "  <tbody>\n",
       "    <tr>\n",
       "      <th>Falcon</th>\n",
       "      <td>370.000000</td>\n",
       "    </tr>\n",
       "    <tr>\n",
       "      <th>Parrot</th>\n",
       "      <td>143.333333</td>\n",
       "    </tr>\n",
       "  </tbody>\n",
       "</table>\n",
       "</div>"
      ],
      "text/plain": [
       "         Max Speed\n",
       "Animal            \n",
       "Falcon  370.000000\n",
       "Parrot  143.333333"
      ]
     },
     "execution_count": 98,
     "metadata": {},
     "output_type": "execute_result"
    }
   ],
   "source": [
    "df.groupby(['Animal']).mean()"
   ]
  },
  {
   "cell_type": "code",
   "execution_count": 100,
   "id": "511af9af-b6fa-4705-ab79-e442e1c55eb5",
   "metadata": {},
   "outputs": [
    {
     "data": {
      "text/html": [
       "<div>\n",
       "<style scoped>\n",
       "    .dataframe tbody tr th:only-of-type {\n",
       "        vertical-align: middle;\n",
       "    }\n",
       "\n",
       "    .dataframe tbody tr th {\n",
       "        vertical-align: top;\n",
       "    }\n",
       "\n",
       "    .dataframe thead th {\n",
       "        text-align: right;\n",
       "    }\n",
       "</style>\n",
       "<table border=\"1\" class=\"dataframe\">\n",
       "  <thead>\n",
       "    <tr style=\"text-align: right;\">\n",
       "      <th></th>\n",
       "      <th>Animal</th>\n",
       "      <th>Max Speed</th>\n",
       "      <th>avg_spd</th>\n",
       "    </tr>\n",
       "  </thead>\n",
       "  <tbody>\n",
       "    <tr>\n",
       "      <th>0</th>\n",
       "      <td>Parrot</td>\n",
       "      <td>380.0</td>\n",
       "      <td>143.333333</td>\n",
       "    </tr>\n",
       "    <tr>\n",
       "      <th>1</th>\n",
       "      <td>Falcon</td>\n",
       "      <td>370.0</td>\n",
       "      <td>370.000000</td>\n",
       "    </tr>\n",
       "    <tr>\n",
       "      <th>2</th>\n",
       "      <td>Falcon</td>\n",
       "      <td>NaN</td>\n",
       "      <td>370.000000</td>\n",
       "    </tr>\n",
       "    <tr>\n",
       "      <th>3</th>\n",
       "      <td>Parrot</td>\n",
       "      <td>24.0</td>\n",
       "      <td>143.333333</td>\n",
       "    </tr>\n",
       "    <tr>\n",
       "      <th>4</th>\n",
       "      <td>Parrot</td>\n",
       "      <td>26.0</td>\n",
       "      <td>143.333333</td>\n",
       "    </tr>\n",
       "    <tr>\n",
       "      <th>5</th>\n",
       "      <td>Falcon</td>\n",
       "      <td>NaN</td>\n",
       "      <td>370.000000</td>\n",
       "    </tr>\n",
       "    <tr>\n",
       "      <th>6</th>\n",
       "      <td>Parrot</td>\n",
       "      <td>NaN</td>\n",
       "      <td>143.333333</td>\n",
       "    </tr>\n",
       "  </tbody>\n",
       "</table>\n",
       "</div>"
      ],
      "text/plain": [
       "   Animal  Max Speed     avg_spd\n",
       "0  Parrot      380.0  143.333333\n",
       "1  Falcon      370.0  370.000000\n",
       "2  Falcon        NaN  370.000000\n",
       "3  Parrot       24.0  143.333333\n",
       "4  Parrot       26.0  143.333333\n",
       "5  Falcon        NaN  370.000000\n",
       "6  Parrot        NaN  143.333333"
      ]
     },
     "execution_count": 100,
     "metadata": {},
     "output_type": "execute_result"
    }
   ],
   "source": [
    "df['avg_spd']=df.groupby(['Animal']).transform('mean')\n",
    "df"
   ]
  },
  {
   "cell_type": "code",
   "execution_count": 102,
   "id": "ac34c95c-5a9a-4747-982e-47643cffe50e",
   "metadata": {},
   "outputs": [
    {
     "data": {
      "text/plain": [
       "0    380.000000\n",
       "1    370.000000\n",
       "2    370.000000\n",
       "3     24.000000\n",
       "4     26.000000\n",
       "5    370.000000\n",
       "6    143.333333\n",
       "Name: Max Speed, dtype: float64"
      ]
     },
     "execution_count": 102,
     "metadata": {},
     "output_type": "execute_result"
    }
   ],
   "source": [
    "df['Max Speed'].fillna(df['avg_spd'])"
   ]
  },
  {
   "cell_type": "code",
   "execution_count": 104,
   "id": "83142a7d-eed6-4b7e-beb9-ed9bf44f79be",
   "metadata": {},
   "outputs": [],
   "source": [
    "# Step 4: Replace missing Duration values with the average for each VisitDate\n",
    "customer_journey_df['avg_duration'] = customer_journey_df.groupby('VisitDate')['Duration'].transform('mean')\n",
    "customer_journey_df['Duration'] = customer_journey_df['Duration'].fillna(customer_journey_df['avg_duration'])"
   ]
  },
  {
   "cell_type": "code",
   "execution_count": 106,
   "id": "2eae09d0-6215-4698-8d34-35c87476f35c",
   "metadata": {},
   "outputs": [],
   "source": [
    "# Step 5: Convert Stage to uppercase for consistency\n",
    "customer_journey_df['Stage'] = customer_journey_df['Stage'].str.upper()"
   ]
  },
  {
   "cell_type": "code",
   "execution_count": 108,
   "id": "78667f26-6430-40df-abe1-458b6f01e3d6",
   "metadata": {},
   "outputs": [
    {
     "data": {
      "text/html": [
       "<div>\n",
       "<style scoped>\n",
       "    .dataframe tbody tr th:only-of-type {\n",
       "        vertical-align: middle;\n",
       "    }\n",
       "\n",
       "    .dataframe tbody tr th {\n",
       "        vertical-align: top;\n",
       "    }\n",
       "\n",
       "    .dataframe thead th {\n",
       "        text-align: right;\n",
       "    }\n",
       "</style>\n",
       "<table border=\"1\" class=\"dataframe\">\n",
       "  <thead>\n",
       "    <tr style=\"text-align: right;\">\n",
       "      <th></th>\n",
       "      <th>JourneyID</th>\n",
       "      <th>CustomerID</th>\n",
       "      <th>ProductID</th>\n",
       "      <th>VisitDate</th>\n",
       "      <th>Stage</th>\n",
       "      <th>Action</th>\n",
       "      <th>Duration</th>\n",
       "      <th>avg_duration</th>\n",
       "    </tr>\n",
       "  </thead>\n",
       "  <tbody>\n",
       "    <tr>\n",
       "      <th>0</th>\n",
       "      <td>1</td>\n",
       "      <td>64</td>\n",
       "      <td>18</td>\n",
       "      <td>2024-06-10</td>\n",
       "      <td>CHECKOUT</td>\n",
       "      <td>Drop-off</td>\n",
       "      <td>132.333333</td>\n",
       "      <td>132.333333</td>\n",
       "    </tr>\n",
       "    <tr>\n",
       "      <th>1</th>\n",
       "      <td>2</td>\n",
       "      <td>94</td>\n",
       "      <td>11</td>\n",
       "      <td>2025-07-09</td>\n",
       "      <td>CHECKOUT</td>\n",
       "      <td>Drop-off</td>\n",
       "      <td>169.250000</td>\n",
       "      <td>169.250000</td>\n",
       "    </tr>\n",
       "    <tr>\n",
       "      <th>2</th>\n",
       "      <td>3</td>\n",
       "      <td>34</td>\n",
       "      <td>8</td>\n",
       "      <td>2024-06-14</td>\n",
       "      <td>PRODUCTPAGE</td>\n",
       "      <td>View</td>\n",
       "      <td>235.000000</td>\n",
       "      <td>184.250000</td>\n",
       "    </tr>\n",
       "    <tr>\n",
       "      <th>3</th>\n",
       "      <td>4</td>\n",
       "      <td>33</td>\n",
       "      <td>18</td>\n",
       "      <td>2025-05-28</td>\n",
       "      <td>CHECKOUT</td>\n",
       "      <td>Drop-off</td>\n",
       "      <td>12.000000</td>\n",
       "      <td>12.000000</td>\n",
       "    </tr>\n",
       "    <tr>\n",
       "      <th>4</th>\n",
       "      <td>5</td>\n",
       "      <td>91</td>\n",
       "      <td>10</td>\n",
       "      <td>2023-02-11</td>\n",
       "      <td>HOMEPAGE</td>\n",
       "      <td>Click</td>\n",
       "      <td>156.000000</td>\n",
       "      <td>104.600000</td>\n",
       "    </tr>\n",
       "    <tr>\n",
       "      <th>...</th>\n",
       "      <td>...</td>\n",
       "      <td>...</td>\n",
       "      <td>...</td>\n",
       "      <td>...</td>\n",
       "      <td>...</td>\n",
       "      <td>...</td>\n",
       "      <td>...</td>\n",
       "      <td>...</td>\n",
       "    </tr>\n",
       "    <tr>\n",
       "      <th>3984</th>\n",
       "      <td>2655</td>\n",
       "      <td>84</td>\n",
       "      <td>4</td>\n",
       "      <td>2023-10-09</td>\n",
       "      <td>HOMEPAGE</td>\n",
       "      <td>View</td>\n",
       "      <td>146.000000</td>\n",
       "      <td>147.000000</td>\n",
       "    </tr>\n",
       "    <tr>\n",
       "      <th>3991</th>\n",
       "      <td>2653</td>\n",
       "      <td>86</td>\n",
       "      <td>2</td>\n",
       "      <td>2023-06-08</td>\n",
       "      <td>PRODUCTPAGE</td>\n",
       "      <td>Click</td>\n",
       "      <td>247.000000</td>\n",
       "      <td>214.000000</td>\n",
       "    </tr>\n",
       "    <tr>\n",
       "      <th>3997</th>\n",
       "      <td>97</td>\n",
       "      <td>92</td>\n",
       "      <td>19</td>\n",
       "      <td>2025-05-26</td>\n",
       "      <td>HOMEPAGE</td>\n",
       "      <td>View</td>\n",
       "      <td>203.000000</td>\n",
       "      <td>162.000000</td>\n",
       "    </tr>\n",
       "    <tr>\n",
       "      <th>4005</th>\n",
       "      <td>3531</td>\n",
       "      <td>70</td>\n",
       "      <td>5</td>\n",
       "      <td>2025-08-04</td>\n",
       "      <td>CHECKOUT</td>\n",
       "      <td>Drop-off</td>\n",
       "      <td>203.000000</td>\n",
       "      <td>203.000000</td>\n",
       "    </tr>\n",
       "    <tr>\n",
       "      <th>4007</th>\n",
       "      <td>1248</td>\n",
       "      <td>17</td>\n",
       "      <td>8</td>\n",
       "      <td>2023-12-13</td>\n",
       "      <td>HOMEPAGE</td>\n",
       "      <td>Click</td>\n",
       "      <td>153.000000</td>\n",
       "      <td>141.250000</td>\n",
       "    </tr>\n",
       "  </tbody>\n",
       "</table>\n",
       "<p>3940 rows × 8 columns</p>\n",
       "</div>"
      ],
      "text/plain": [
       "      JourneyID  CustomerID  ProductID  VisitDate        Stage    Action  \\\n",
       "0             1          64         18 2024-06-10     CHECKOUT  Drop-off   \n",
       "1             2          94         11 2025-07-09     CHECKOUT  Drop-off   \n",
       "2             3          34          8 2024-06-14  PRODUCTPAGE      View   \n",
       "3             4          33         18 2025-05-28     CHECKOUT  Drop-off   \n",
       "4             5          91         10 2023-02-11     HOMEPAGE     Click   \n",
       "...         ...         ...        ...        ...          ...       ...   \n",
       "3984       2655          84          4 2023-10-09     HOMEPAGE      View   \n",
       "3991       2653          86          2 2023-06-08  PRODUCTPAGE     Click   \n",
       "3997         97          92         19 2025-05-26     HOMEPAGE      View   \n",
       "4005       3531          70          5 2025-08-04     CHECKOUT  Drop-off   \n",
       "4007       1248          17          8 2023-12-13     HOMEPAGE     Click   \n",
       "\n",
       "        Duration  avg_duration  \n",
       "0     132.333333    132.333333  \n",
       "1     169.250000    169.250000  \n",
       "2     235.000000    184.250000  \n",
       "3      12.000000     12.000000  \n",
       "4     156.000000    104.600000  \n",
       "...          ...           ...  \n",
       "3984  146.000000    147.000000  \n",
       "3991  247.000000    214.000000  \n",
       "3997  203.000000    162.000000  \n",
       "4005  203.000000    203.000000  \n",
       "4007  153.000000    141.250000  \n",
       "\n",
       "[3940 rows x 8 columns]"
      ]
     },
     "execution_count": 108,
     "metadata": {},
     "output_type": "execute_result"
    }
   ],
   "source": [
    "customer_journey_df"
   ]
  },
  {
   "cell_type": "code",
   "execution_count": 110,
   "id": "2ec27474-c109-4e10-8214-c17bba1a6298",
   "metadata": {},
   "outputs": [],
   "source": [
    "# Drop intermediate columns\n",
    "customer_journey_df = customer_journey_df.drop(columns=['avg_duration'],axis=1)"
   ]
  },
  {
   "cell_type": "code",
   "execution_count": 112,
   "id": "705e17cd-95be-4fae-99c5-e7408a22eb40",
   "metadata": {},
   "outputs": [],
   "source": [
    "# Save or display the cleaned dataset\n",
    "customer_journey_df.to_csv('cleaned_customer_journey.csv', index=False)"
   ]
  },
  {
   "cell_type": "code",
   "execution_count": 114,
   "id": "a920c9aa-a0cd-4f81-a2b7-a0253d95d965",
   "metadata": {},
   "outputs": [
    {
     "data": {
      "text/html": [
       "<div>\n",
       "<style scoped>\n",
       "    .dataframe tbody tr th:only-of-type {\n",
       "        vertical-align: middle;\n",
       "    }\n",
       "\n",
       "    .dataframe tbody tr th {\n",
       "        vertical-align: top;\n",
       "    }\n",
       "\n",
       "    .dataframe thead th {\n",
       "        text-align: right;\n",
       "    }\n",
       "</style>\n",
       "<table border=\"1\" class=\"dataframe\">\n",
       "  <thead>\n",
       "    <tr style=\"text-align: right;\">\n",
       "      <th></th>\n",
       "      <th>JourneyID</th>\n",
       "      <th>CustomerID</th>\n",
       "      <th>ProductID</th>\n",
       "      <th>VisitDate</th>\n",
       "      <th>Stage</th>\n",
       "      <th>Action</th>\n",
       "      <th>Duration</th>\n",
       "    </tr>\n",
       "  </thead>\n",
       "  <tbody>\n",
       "    <tr>\n",
       "      <th>0</th>\n",
       "      <td>1</td>\n",
       "      <td>64</td>\n",
       "      <td>18</td>\n",
       "      <td>2024-06-10</td>\n",
       "      <td>CHECKOUT</td>\n",
       "      <td>Drop-off</td>\n",
       "      <td>132.333333</td>\n",
       "    </tr>\n",
       "    <tr>\n",
       "      <th>1</th>\n",
       "      <td>2</td>\n",
       "      <td>94</td>\n",
       "      <td>11</td>\n",
       "      <td>2025-07-09</td>\n",
       "      <td>CHECKOUT</td>\n",
       "      <td>Drop-off</td>\n",
       "      <td>169.250000</td>\n",
       "    </tr>\n",
       "    <tr>\n",
       "      <th>2</th>\n",
       "      <td>3</td>\n",
       "      <td>34</td>\n",
       "      <td>8</td>\n",
       "      <td>2024-06-14</td>\n",
       "      <td>PRODUCTPAGE</td>\n",
       "      <td>View</td>\n",
       "      <td>235.000000</td>\n",
       "    </tr>\n",
       "    <tr>\n",
       "      <th>3</th>\n",
       "      <td>4</td>\n",
       "      <td>33</td>\n",
       "      <td>18</td>\n",
       "      <td>2025-05-28</td>\n",
       "      <td>CHECKOUT</td>\n",
       "      <td>Drop-off</td>\n",
       "      <td>12.000000</td>\n",
       "    </tr>\n",
       "    <tr>\n",
       "      <th>4</th>\n",
       "      <td>5</td>\n",
       "      <td>91</td>\n",
       "      <td>10</td>\n",
       "      <td>2023-02-11</td>\n",
       "      <td>HOMEPAGE</td>\n",
       "      <td>Click</td>\n",
       "      <td>156.000000</td>\n",
       "    </tr>\n",
       "    <tr>\n",
       "      <th>...</th>\n",
       "      <td>...</td>\n",
       "      <td>...</td>\n",
       "      <td>...</td>\n",
       "      <td>...</td>\n",
       "      <td>...</td>\n",
       "      <td>...</td>\n",
       "      <td>...</td>\n",
       "    </tr>\n",
       "    <tr>\n",
       "      <th>3984</th>\n",
       "      <td>2655</td>\n",
       "      <td>84</td>\n",
       "      <td>4</td>\n",
       "      <td>2023-10-09</td>\n",
       "      <td>HOMEPAGE</td>\n",
       "      <td>View</td>\n",
       "      <td>146.000000</td>\n",
       "    </tr>\n",
       "    <tr>\n",
       "      <th>3991</th>\n",
       "      <td>2653</td>\n",
       "      <td>86</td>\n",
       "      <td>2</td>\n",
       "      <td>2023-06-08</td>\n",
       "      <td>PRODUCTPAGE</td>\n",
       "      <td>Click</td>\n",
       "      <td>247.000000</td>\n",
       "    </tr>\n",
       "    <tr>\n",
       "      <th>3997</th>\n",
       "      <td>97</td>\n",
       "      <td>92</td>\n",
       "      <td>19</td>\n",
       "      <td>2025-05-26</td>\n",
       "      <td>HOMEPAGE</td>\n",
       "      <td>View</td>\n",
       "      <td>203.000000</td>\n",
       "    </tr>\n",
       "    <tr>\n",
       "      <th>4005</th>\n",
       "      <td>3531</td>\n",
       "      <td>70</td>\n",
       "      <td>5</td>\n",
       "      <td>2025-08-04</td>\n",
       "      <td>CHECKOUT</td>\n",
       "      <td>Drop-off</td>\n",
       "      <td>203.000000</td>\n",
       "    </tr>\n",
       "    <tr>\n",
       "      <th>4007</th>\n",
       "      <td>1248</td>\n",
       "      <td>17</td>\n",
       "      <td>8</td>\n",
       "      <td>2023-12-13</td>\n",
       "      <td>HOMEPAGE</td>\n",
       "      <td>Click</td>\n",
       "      <td>153.000000</td>\n",
       "    </tr>\n",
       "  </tbody>\n",
       "</table>\n",
       "<p>3940 rows × 7 columns</p>\n",
       "</div>"
      ],
      "text/plain": [
       "      JourneyID  CustomerID  ProductID  VisitDate        Stage    Action  \\\n",
       "0             1          64         18 2024-06-10     CHECKOUT  Drop-off   \n",
       "1             2          94         11 2025-07-09     CHECKOUT  Drop-off   \n",
       "2             3          34          8 2024-06-14  PRODUCTPAGE      View   \n",
       "3             4          33         18 2025-05-28     CHECKOUT  Drop-off   \n",
       "4             5          91         10 2023-02-11     HOMEPAGE     Click   \n",
       "...         ...         ...        ...        ...          ...       ...   \n",
       "3984       2655          84          4 2023-10-09     HOMEPAGE      View   \n",
       "3991       2653          86          2 2023-06-08  PRODUCTPAGE     Click   \n",
       "3997         97          92         19 2025-05-26     HOMEPAGE      View   \n",
       "4005       3531          70          5 2025-08-04     CHECKOUT  Drop-off   \n",
       "4007       1248          17          8 2023-12-13     HOMEPAGE     Click   \n",
       "\n",
       "        Duration  \n",
       "0     132.333333  \n",
       "1     169.250000  \n",
       "2     235.000000  \n",
       "3      12.000000  \n",
       "4     156.000000  \n",
       "...          ...  \n",
       "3984  146.000000  \n",
       "3991  247.000000  \n",
       "3997  203.000000  \n",
       "4005  203.000000  \n",
       "4007  153.000000  \n",
       "\n",
       "[3940 rows x 7 columns]"
      ]
     },
     "execution_count": 114,
     "metadata": {},
     "output_type": "execute_result"
    }
   ],
   "source": [
    "customer_journey_df"
   ]
  },
  {
   "cell_type": "code",
   "execution_count": 120,
   "id": "ade8dbf4-8b54-44ba-a010-cda7514eeb16",
   "metadata": {},
   "outputs": [
    {
     "data": {
      "text/plain": [
       "(Timestamp('2023-01-01 00:00:00'), Timestamp('2025-12-30 00:00:00'))"
      ]
     },
     "execution_count": 120,
     "metadata": {},
     "output_type": "execute_result"
    }
   ],
   "source": [
    "customer_journey_df.VisitDate.min(), customer_journey_df.VisitDate.max(), "
   ]
  },
  {
   "cell_type": "code",
   "execution_count": 122,
   "id": "3b610395-d38f-45ec-a74a-95c70673d974",
   "metadata": {},
   "outputs": [
    {
     "data": {
      "text/plain": [
       "(array(['CHECKOUT', 'PRODUCTPAGE', 'HOMEPAGE'], dtype=object),)"
      ]
     },
     "execution_count": 122,
     "metadata": {},
     "output_type": "execute_result"
    }
   ],
   "source": [
    "customer_journey_df.Stage.unique(),"
   ]
  },
  {
   "cell_type": "code",
   "execution_count": 124,
   "id": "1cb391fa-802a-4446-8a5f-d276c92f792b",
   "metadata": {},
   "outputs": [
    {
     "data": {
      "text/plain": [
       "Index(['HOMEPAGE', 'PRODUCTPAGE', 'CHECKOUT'], dtype='object', name='Stage')"
      ]
     },
     "execution_count": 124,
     "metadata": {},
     "output_type": "execute_result"
    }
   ],
   "source": [
    "freq = customer_journey_df.Stage.value_counts()\n",
    "freq.index"
   ]
  },
  {
   "cell_type": "code",
   "execution_count": 118,
   "id": "cb4deec8-8be1-4c25-b43e-be8d0fe436f6",
   "metadata": {},
   "outputs": [],
   "source": [
    "import matplotlib.pyplot as plt"
   ]
  },
  {
   "cell_type": "code",
   "execution_count": 128,
   "id": "201d49a6-79e9-458f-9a3f-3d0463577e51",
   "metadata": {},
   "outputs": [
    {
     "data": {
      "image/png": "[encoded data removed]",
      "text/plain": [
       "<Figure size 640x480 with 1 Axes>"
      ]
     },
     "metadata": {},
     "output_type": "display_data"
    }
   ],
   "source": [
    "plt.bar(x=freq.index, height= freq.values)\n",
    "plt.show()"
   ]
  },
  {
   "cell_type": "code",
   "execution_count": 172,
   "id": "c92b229c-732c-4c45-8212-efae9b3f05bf",
   "metadata": {},
   "outputs": [],
   "source": [
    "data_2023= customer_journey_df[(customer_journey_df.VisitDate >= '2023-01-01') & (customer_journey_df.VisitDate <= '2023-12-31')]"
   ]
  },
  {
   "cell_type": "code",
   "execution_count": 174,
   "id": "a2c233e1-476b-4b75-b04c-f190ef53d612",
   "metadata": {},
   "outputs": [],
   "source": [
    "data_2024= customer_journey_df[(customer_journey_df.VisitDate >= '2024-01-01') & (customer_journey_df.VisitDate <= '2024-12-31')]"
   ]
  },
  {
   "cell_type": "code",
   "execution_count": 176,
   "id": "b25d2f55-0e48-458d-ac0e-d1f4da32f62a",
   "metadata": {},
   "outputs": [],
   "source": [
    "data_2025= customer_journey_df[(customer_journey_df.VisitDate >= '2025-01-01') & (customer_journey_df.VisitDate <= '2025-12-31')]"
   ]
  },
  {
   "cell_type": "code",
   "execution_count": 178,
   "id": "86cee251-1cfc-4d57-95db-8da8b684a239",
   "metadata": {},
   "outputs": [
    {
     "data": {
      "text/plain": [
       "Stage\n",
       "HOMEPAGE       601\n",
       "PRODUCTPAGE    500\n",
       "CHECKOUT       292\n",
       "Name: count, dtype: int64"
      ]
     },
     "execution_count": 178,
     "metadata": {},
     "output_type": "execute_result"
    }
   ],
   "source": [
    "stage_freq_2023 = data_2023.Stage.value_counts()\n",
    "stage_freq_2023"
   ]
  },
  {
   "cell_type": "code",
   "execution_count": 180,
   "id": "f86dce21-37db-44b4-93e4-9920b4382557",
   "metadata": {},
   "outputs": [
    {
     "data": {
      "text/plain": [
       "Stage\n",
       "HOMEPAGE       587\n",
       "PRODUCTPAGE    443\n",
       "CHECKOUT       239\n",
       "Name: count, dtype: int64"
      ]
     },
     "execution_count": 180,
     "metadata": {},
     "output_type": "execute_result"
    }
   ],
   "source": [
    "stage_freq_2024 = data_2024.Stage.value_counts()\n",
    "stage_freq_2024"
   ]
  },
  {
   "cell_type": "code",
   "execution_count": 182,
   "id": "713bb2f8-2753-41fd-be7f-01d8ec524152",
   "metadata": {},
   "outputs": [
    {
     "data": {
      "text/plain": [
       "Stage\n",
       "HOMEPAGE       553\n",
       "PRODUCTPAGE    480\n",
       "CHECKOUT       245\n",
       "Name: count, dtype: int64"
      ]
     },
     "execution_count": 182,
     "metadata": {},
     "output_type": "execute_result"
    }
   ],
   "source": [
    "stage_freq_2025 = data_2025.Stage.value_counts()\n",
    "stage_freq_2025"
   ]
  },
  {
   "cell_type": "code",
   "execution_count": 184,
   "id": "0ed3b4dd-3c05-4efc-8ae5-9b35083accd8",
   "metadata": {},
   "outputs": [
    {
     "data": {
      "text/plain": [
       "<BarContainer object of 3 artists>"
      ]
     },
     "execution_count": 184,
     "metadata": {},
     "output_type": "execute_result"
    },
    {
     "data": {
      "image/png": "[encoded data removed]",
      "text/plain": [
       "<Figure size 640x480 with 1 Axes>"
      ]
     },
     "metadata": {},
     "output_type": "display_data"
    }
   ],
   "source": [
    "plt.bar ( x= stage_freq_2023.index ,height = stage_freq_2023.values)"
   ]
  },
  {
   "cell_type": "code",
   "execution_count": 146,
   "id": "f3599c83-c9aa-4014-8a16-bc364100fcfc",
   "metadata": {},
   "outputs": [
    {
     "data": {
      "text/plain": [
       "<BarContainer object of 3 artists>"
      ]
     },
     "execution_count": 146,
     "metadata": {},
     "output_type": "execute_result"
    },
    {
     "data": {
      "image/png": "[encoded data removed]",
      "text/plain": [
       "<Figure size 640x480 with 1 Axes>"
      ]
     },
     "metadata": {},
     "output_type": "display_data"
    }
   ],
   "source": [
    "plt.bar ( x= stage_freq_2024.index ,height = stage_freq_2024.values)"
   ]
  },
  {
   "cell_type": "code",
   "execution_count": 186,
   "id": "2116b72b-55dc-41d8-9bdb-223b6eff9e13",
   "metadata": {},
   "outputs": [
    {
     "data": {
      "text/plain": [
       "<BarContainer object of 3 artists>"
      ]
     },
     "execution_count": 186,
     "metadata": {},
     "output_type": "execute_result"
    },
    {
     "data": {
      "image/png": "[encoded data removed]",
      "text/plain": [
       "<Figure size 640x480 with 1 Axes>"
      ]
     },
     "metadata": {},
     "output_type": "display_data"
    }
   ],
   "source": [
    "plt.bar ( x= stage_freq_2025.index ,height = stage_freq_2025.values)"
   ]
  },
  {
   "cell_type": "code",
   "execution_count": 190,
   "id": "5e6c55c9-1b5a-4b62-9d3c-aa5acc53cdfb",
   "metadata": {},
   "outputs": [
    {
     "data": {
      "image/png": "[encoded data removed]",
      "text/plain": [
       "<Figure size 640x480 with 1 Axes>"
      ]
     },
     "metadata": {},
     "output_type": "display_data"
    }
   ],
   "source": [
    "import matplotlib.pyplot as plt\n",
    "import numpy as np\n",
    "\n",
    "# Assuming stage_freq_2023, stage_freq_2024, and stage_freq_2025 are pandas Series or similar objects\n",
    "# Set the bar width (the distance between bars)\n",
    "bar_width = 0.25\n",
    "\n",
    "# Ensure the indices align across all three years\n",
    "labels = stage_freq_2023.index  # Assuming the indices are the same for all\n",
    "num_bars = len(labels)\n",
    "\n",
    "# Create an index for each dataset\n",
    "index_2023 = np.arange(num_bars)\n",
    "index_2024 = index_2023 + bar_width  # Shifted for 2024 bars\n",
    "index_2025 = index_2024 + bar_width  # Shifted for 2025 bars\n",
    "\n",
    "# Create the bar plots\n",
    "plt.bar(index_2023, stage_freq_2023.values, width=bar_width, label='2023', color='blue')\n",
    "plt.bar(index_2024, stage_freq_2024.values, width=bar_width, label='2024', color='orange')\n",
    "plt.bar(index_2025, stage_freq_2025.values, width=bar_width, label='2025', color='green')\n",
    "\n",
    "# Set x-axis ticks to be in the middle of the grouped bars\n",
    "plt.xticks(index_2024, labels)  # Use the same index labels for x-axis\n",
    "\n",
    "# Add labels and title\n",
    "plt.xlabel('Stages')\n",
    "plt.ylabel('Frequency')\n",
    "plt.title('Stage Frequencies by Year')\n",
    "\n",
    "# Add a legend to differentiate the bars\n",
    "plt.legend()\n",
    "\n",
    "# Show the plot\n",
    "plt.tight_layout()\n",
    "plt.show()\n"
   ]
  },
  {
   "cell_type": "code",
   "execution_count": null,
   "id": "db5e7be6-109a-4b6d-af42-0b5e8cfaad68",
   "metadata": {},
   "outputs": [],
   "source": []
  },
  {
   "cell_type": "code",
   "execution_count": null,
   "id": "95db86ef-eb2e-41a4-8a1e-a2f6cfe7165a",
   "metadata": {},
   "outputs": [],
   "source": []
  },
  {
   "cell_type": "code",
   "execution_count": null,
   "id": "0347f3d5-d7bb-4258-ac84-6e8500faf094",
   "metadata": {},
   "outputs": [],
   "source": []
  },
  {
   "cell_type": "code",
   "execution_count": null,
   "id": "342a9c5f-ada0-4ad7-986b-8a8d5a9ce878",
   "metadata": {},
   "outputs": [],
   "source": []
  },
  {
   "cell_type": "code",
   "execution_count": null,
   "id": "21ac8754-0231-4474-8000-5cb0e360e5ac",
   "metadata": {},
   "outputs": [],
   "source": []
  },
  {
   "cell_type": "code",
   "execution_count": null,
   "id": "da055649-d9cd-4e2a-843d-a9ef48e35132",
   "metadata": {},
   "outputs": [],
   "source": []
  },
  {
   "cell_type": "code",
   "execution_count": null,
   "id": "0bc7452d-52e8-44af-8804-5e04b41807e2",
   "metadata": {},
   "outputs": [],
   "source": []
  },
  {
   "cell_type": "code",
   "execution_count": null,
   "id": "e71e7058-52e2-48f4-a50f-acedf7a5a0d2",
   "metadata": {},
   "outputs": [],
   "source": []
  },
  {
   "cell_type": "code",
   "execution_count": null,
   "id": "65f3a0ad-70f2-4057-bdbd-6ed02692e350",
   "metadata": {},
   "outputs": [],
   "source": []
  }
 ],
 "metadata": {
  "kernelspec": {
   "display_name": "Python 3 (ipykernel)",
   "language": "python",
   "name": "python3"
  },
  "language_info": {
   "codemirror_mode": {
    "name": "ipython",
    "version": 3
   },
   "file_extension": ".py",
   "mimetype": "text/x-python",
   "name": "python",
   "nbconvert_exporter": "python",
   "pygments_lexer": "ipython3",
   "version": "3.12.7"
  }
 },
 "nbformat": 4,
 "nbformat_minor": 5
}
