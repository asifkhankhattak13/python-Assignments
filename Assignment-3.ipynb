{
 "cells": [
  {
   "cell_type": "markdown",
   "id": "bc438b62-5e4a-4c36-9ef3-eb753098c882",
   "metadata": {},
   "source": [
    "1.\tCheck Discount Eligibility\n",
    "Write a program to check if a customer is eligible for a discount. If the total purchase is more than $100, apply a 10% discount and display the final price. Otherwise, display the total price as it is.\n"
   ]
  },
  {
   "cell_type": "code",
   "execution_count": 2,
   "id": "8f197848-e9fc-4094-acb5-9d6dc889996a",
   "metadata": {},
   "outputs": [
    {
     "name": "stdin",
     "output_type": "stream",
     "text": [
      "Enter the total purchase amount: $ 10\n"
     ]
    },
    {
     "name": "stdout",
     "output_type": "stream",
     "text": [
      "You are not eligible for a discount.\n",
      "The total price is: $ 10.00\n"
     ]
    }
   ],
   "source": [
    "total_purchase = float(input(\"Enter the total purchase amount: $\"))\n",
    "\n",
    "if total_purchase > 100:\n",
    "    discount = total_purchase * 0.10  \n",
    "    final_price = total_purchase - discount\n",
    "    print(f\"You are eligible for a discount of $ {discount:.2f}.\")\n",
    "    print(f\"The final price after discount is: $ {final_price:.2f}\")\n",
    "else:\n",
    "    print(f\"You are not eligible for a discount.\")\n",
    "    print(f\"The total price is: $ {total_purchase:.2f}\")\n"
   ]
  },
  {
   "cell_type": "markdown",
   "id": "65bc1400-847d-4cb3-be11-b5f87d6b03dc",
   "metadata": {},
   "source": [
    "\n",
    "2.\tCalculate Bulk Discount\n",
    "If a customer buys more than 5 items, apply a 15% discount on the total price. Otherwise, no discount is applied. Display the total price.\n"
   ]
  },
  {
   "cell_type": "code",
   "execution_count": 5,
   "id": "4e4e9c2e-77e3-4abf-8d94-d1293cc5c1c6",
   "metadata": {},
   "outputs": [
    {
     "name": "stdin",
     "output_type": "stream",
     "text": [
      "Enter the number of items purchased:  10\n",
      "Enter the price per item: $ 10\n"
     ]
    },
    {
     "name": "stdout",
     "output_type": "stream",
     "text": [
      "You are eligible for a bulk discount of $ 15.00.\n",
      "The final price after discount is: $ 85.00\n"
     ]
    }
   ],
   "source": [
    "num_items = int(input(\"Enter the number of items purchased: \"))\n",
    "price_per_item = float(input(\"Enter the price per item: $\"))\n",
    "\n",
    "total_price = num_items * price_per_item\n",
    "\n",
    "if num_items > 5:\n",
    "    discount = total_price * 0.15  \n",
    "    final_price = total_price - discount\n",
    "    print(f\"You are eligible for a bulk discount of $ {discount:.2f}.\")\n",
    "    print(f\"The final price after discount is: $ {final_price:.2f}\")\n",
    "else:\n",
    "    print(\"You are not eligible for a bulk discount.\")\n",
    "    print(f\"The total price is: $ {total_price:.2f}\")\n"
   ]
  },
  {
   "cell_type": "markdown",
   "id": "4576f063-f114-496c-beec-8862c6c28b25",
   "metadata": {},
   "source": [
    "3.\tMembership Discount\n",
    "Check if the customer is a member (is_member = True). Members get a 20% discount; non-members get a 5% discount. Calculate and print the discounted price.\n"
   ]
  },
  {
   "cell_type": "code",
   "execution_count": 12,
   "id": "43414966-915c-4767-bbdc-a4fc14dabbdd",
   "metadata": {},
   "outputs": [
    {
     "name": "stdin",
     "output_type": "stream",
     "text": [
      "Are you a member? (yes/no):  10\n",
      "Enter the total purchase amount: $ 10\n"
     ]
    },
    {
     "name": "stdout",
     "output_type": "stream",
     "text": [
      "Membership Status: Non-Member\n",
      "Discount applied: $ 0.50\n",
      "Final price after discount: $ 9.5\n"
     ]
    }
   ],
   "source": [
    "is_member = input(\"Are you a member? (yes/no): \").strip().lower() == \"yes\"\n",
    "total_price = float(input(\"Enter the total purchase amount: $\"))\n",
    "\n",
    "if is_member:\n",
    "    discount = total_price * 0.20  \n",
    "    print(\"Membership Status: Member\")\n",
    "else:\n",
    "    discount = total_price * 0.05  \n",
    "    print(\"Membership Status: Non-Member\")\n",
    "\n",
    "final_price = total_price - discount\n",
    "\n",
    "print(f\"Discount applied: $ {discount:.2f}\")\n",
    "print(f\"Final price after discount: $ {final_price}\")\n"
   ]
  },
  {
   "cell_type": "markdown",
   "id": "094012b9-c432-426e-b9e9-01ce59b985ef",
   "metadata": {},
   "source": [
    "\n",
    "4.\tSeasonal Sale\n",
    "If today is a holiday (is_holiday = True), apply a 25% discount; otherwise, apply a 10% discount. Calculate the price after discount.\n"
   ]
  },
  {
   "cell_type": "code",
   "execution_count": 17,
   "id": "7505ccbc-2da1-4dc3-b00a-3522d37f9459",
   "metadata": {},
   "outputs": [
    {
     "name": "stdin",
     "output_type": "stream",
     "text": [
      "Is today a holiday? (yes/no):  10\n",
      "Enter the total purchase amount: $ 10\n"
     ]
    },
    {
     "name": "stdout",
     "output_type": "stream",
     "text": [
      "Today is not a holiday.\n",
      "Discount applied: $ 1.0\n",
      "Final price after discount: $ 9.0\n"
     ]
    }
   ],
   "source": [
    "is_holiday = input(\"Is today a holiday? (yes/no): \").strip().lower() == \"yes\"\n",
    "total_price = float(input(\"Enter the total purchase amount: $\"))\n",
    "\n",
    "if is_holiday:\n",
    "    discount = total_price * 0.25  \n",
    "    print(\"Today is a holiday!\")\n",
    "else:\n",
    "    discount = total_price * 0.10  \n",
    "    print(\"Today is not a holiday.\")\n",
    "\n",
    "final_price = total_price - discount\n",
    "\n",
    "print(f\"Discount applied: $ {discount}\")\n",
    "print(f\"Final price after discount: $ {final_price}\")\n"
   ]
  },
  {
   "cell_type": "markdown",
   "id": "4d40be46-9b3b-4eaf-ab4d-64ad30042fb7",
   "metadata": {},
   "source": [
    "\n",
    "5.\tBuy-One-Get-One-Free\n",
    "If a customer buys an even number of items, they get half of them for free. Otherwise, they pay for all. Calculate the number of items the customer has to pay for.\n"
   ]
  },
  {
   "cell_type": "code",
   "execution_count": 20,
   "id": "1ef58380-c071-4e1f-86c6-c4cff7c3b773",
   "metadata": {},
   "outputs": [
    {
     "name": "stdin",
     "output_type": "stream",
     "text": [
      "Enter the number of items purchased:  10\n"
     ]
    },
    {
     "name": "stdout",
     "output_type": "stream",
     "text": [
      "Total items purchased: 10\n",
      "Items to pay for: 5\n"
     ]
    }
   ],
   "source": [
    "num_items = int(input(\"Enter the number of items purchased: \"))\n",
    "if num_items % 2 == 0:\n",
    "    items_to_pay_for = num_items // 2  \n",
    "else:\n",
    "    items_to_pay_for = num_items  \n",
    "\n",
    "print(f\"Total items purchased: {num_items}\")\n",
    "print(f\"Items to pay for: {items_to_pay_for}\")\n"
   ]
  },
  {
   "cell_type": "markdown",
   "id": "ded26d5e-98ea-40ce-a247-94d65731fc4a",
   "metadata": {},
   "source": [
    "6.\tSales Tax\n",
    "If the price of an item is greater than $500, apply a luxury tax of 15%. Otherwise, apply a standard tax of 8%. Display the total price after tax.\n"
   ]
  },
  {
   "cell_type": "code",
   "execution_count": 25,
   "id": "b21cd88c-8a18-475a-8298-659cbfbdda01",
   "metadata": {},
   "outputs": [
    {
     "name": "stdin",
     "output_type": "stream",
     "text": [
      "Enter the price of the item: $ 10\n"
     ]
    },
    {
     "name": "stdout",
     "output_type": "stream",
     "text": [
      "Standard tax applied (8%).\n",
      "Tax amount: $ 0.8\n",
      "Total price after tax: $ 10.8\n"
     ]
    }
   ],
   "source": [
    "price = float(input(\"Enter the price of the item: $\"))\n",
    "\n",
    "if price > 500:\n",
    "    tax = price * 0.15  \n",
    "    print(\"Luxury tax applied (15%).\")\n",
    "else:\n",
    "    tax = price * 0.08  \n",
    "    print(\"Standard tax applied (8%).\")\n",
    "\n",
    "total_price = price + tax\n",
    "\n",
    "print(f\"Tax amount: $ {tax}\")\n",
    "print(f\"Total price after tax: $ {total_price}\")\n"
   ]
  },
  {
   "cell_type": "markdown",
   "id": "829d5379-0e01-4593-ac04-856698fb2984",
   "metadata": {},
   "source": [
    "\n",
    "7.\tIncome Tax\n",
    "If a person's annual income is above $50,000, they pay 20% tax. Otherwise, they pay 10%. Calculate and display the tax amount.\n"
   ]
  },
  {
   "cell_type": "code",
   "execution_count": 28,
   "id": "35242dd0-62d3-4199-abde-b58ba36ab11b",
   "metadata": {},
   "outputs": [
    {
     "name": "stdin",
     "output_type": "stream",
     "text": [
      "Enter the annual income: $ 10\n"
     ]
    },
    {
     "name": "stdout",
     "output_type": "stream",
     "text": [
      "Tax rate applied: 10%\n",
      "Income Tax: $ 1.00\n"
     ]
    }
   ],
   "source": [
    "annual_income = float(input(\"Enter the annual income: $\"))\n",
    "\n",
    "if annual_income > 50000:\n",
    "    tax = annual_income * 0.20  \n",
    "    print(\"Tax rate applied: 20%\")\n",
    "else:\n",
    "    tax = annual_income * 0.10  \n",
    "    print(\"Tax rate applied: 10%\")\n",
    "\n",
    "print(f\"Income Tax: $ {tax:.2f}\")\n"
   ]
  },
  {
   "cell_type": "markdown",
   "id": "513d9b26-43ba-48a6-a9cf-a2ca5f9eee92",
   "metadata": {},
   "source": [
    "8.\tTax Bracket\n",
    "Write a program to categorize a person into tax brackets:\n",
    "- Income < $30,000: \"Low Tax\"\n",
    "- $30,000 ≤ Income < $100,000: \"Medium Tax\"\n",
    "- Income ≥ $100,000: \"High Tax\"\n"
   ]
  },
  {
   "cell_type": "code",
   "execution_count": 34,
   "id": "eaeb3976-ae49-4135-acbb-c89cd1acf0b8",
   "metadata": {},
   "outputs": [
    {
     "name": "stdin",
     "output_type": "stream",
     "text": [
      "Enter the annual income: $ 10\n"
     ]
    },
    {
     "name": "stdout",
     "output_type": "stream",
     "text": [
      "Annual Income: $ 10.00\n",
      "Tax Bracket: Low Tax\n"
     ]
    }
   ],
   "source": [
    "annual_income = float(input(\"Enter the annual income: $\"))\n",
    "\n",
    "if annual_income < 30000:\n",
    "    tax_bracket = \"Low Tax\"\n",
    "elif 30000 <= annual_income < 100000:\n",
    "    tax_bracket = \"Medium Tax\"\n",
    "else:\n",
    "    tax_bracket = \"High Tax\"\n",
    "\n",
    "print(f\"Annual Income: $ {annual_income:.2f}\")\n",
    "print(f\"Tax Bracket: {tax_bracket}\")\n"
   ]
  },
  {
   "cell_type": "markdown",
   "id": "84d432bf-d15b-40d4-ad68-d48aa855e463",
   "metadata": {},
   "source": [
    "\n",
    "9.\tVAT Calculation\n",
    "If the item is marked as essential (is_essential = True), apply a VAT of 5%. Otherwise, apply a VAT of 12%. Display the final price.\n"
   ]
  },
  {
   "cell_type": "code",
   "execution_count": 37,
   "id": "94a71591-800d-4959-82fd-4b0b46feb183",
   "metadata": {},
   "outputs": [
    {
     "name": "stdin",
     "output_type": "stream",
     "text": [
      "Is the item essential? (yes/no):  10\n",
      "Enter the price of the item: $ 19\n"
     ]
    },
    {
     "name": "stdout",
     "output_type": "stream",
     "text": [
      "VAT rate applied: 12% (Non-essential item)\n",
      "VAT amount: $ 2.28\n",
      "Final price after VAT: $ 21.28\n"
     ]
    }
   ],
   "source": [
    "is_essential = input(\"Is the item essential? (yes/no): \").strip().lower() == \"yes\"\n",
    "item_price = float(input(\"Enter the price of the item: $\"))\n",
    "\n",
    "if is_essential:\n",
    "    vat = item_price * 0.05  \n",
    "    print(\"VAT rate applied: 5% (Essential item)\")\n",
    "else:\n",
    "    vat = item_price * 0.12  \n",
    "    print(\"VAT rate applied: 12% (Non-essential item)\")\n",
    "\n",
    "final_price = item_price + vat\n",
    "\n",
    "print(f\"VAT amount: $ {vat}\")\n",
    "print(f\"Final price after VAT: $ {final_price}\")\n"
   ]
  },
  {
   "cell_type": "markdown",
   "id": "894acf3d-9d7f-4224-9da6-78c8315a47d3",
   "metadata": {},
   "source": [
    "\n",
    "10.\tTax-Free Day\n",
    "If today is a tax-free day (tax_free = True), display the original price. Otherwise, add a 7% tax.\n"
   ]
  },
  {
   "cell_type": "code",
   "execution_count": 40,
   "id": "a3f70ebf-49f8-4dc4-83af-3f2487ec12e2",
   "metadata": {},
   "outputs": [
    {
     "name": "stdin",
     "output_type": "stream",
     "text": [
      "Is today a tax-free day? (yes/no):  10\n",
      "Enter the original price of the item: $ 10\n"
     ]
    },
    {
     "name": "stdout",
     "output_type": "stream",
     "text": [
      "Today is not a tax-free day. 7% tax applied.\n",
      "Final price: $ 10.70\n"
     ]
    }
   ],
   "source": [
    "tax_free = input(\"Is today a tax-free day? (yes/no): \").strip().lower() == \"yes\"\n",
    "original_price = float(input(\"Enter the original price of the item: $\"))\n",
    "if tax_free:\n",
    "    final_price = original_price\n",
    "    print(\"Today is a tax-free day!\")\n",
    "else:\n",
    "    tax = original_price * 0.07  # 7% tax\n",
    "    final_price = original_price + tax\n",
    "    print(\"Today is not a tax-free day. 7% tax applied.\")\n",
    "print(f\"Final price: $ {final_price:.2f}\")\n"
   ]
  },
  {
   "cell_type": "code",
   "execution_count": null,
   "id": "d91b1c69-85a8-4274-9514-ecb368fb62a7",
   "metadata": {},
   "outputs": [],
   "source": []
  },
  {
   "cell_type": "code",
   "execution_count": null,
   "id": "e9d4d2ff-23c6-4368-90d4-d2f775ce0e3d",
   "metadata": {},
   "outputs": [],
   "source": []
  },
  {
   "cell_type": "code",
   "execution_count": null,
   "id": "15e05612-5a89-4d9b-aa7a-2b39c1f94d61",
   "metadata": {},
   "outputs": [],
   "source": []
  },
  {
   "cell_type": "code",
   "execution_count": null,
   "id": "1598de88-b193-4fcf-92a1-4cfd8643cbe8",
   "metadata": {},
   "outputs": [],
   "source": []
  },
  {
   "cell_type": "code",
   "execution_count": null,
   "id": "9ecc7e3b-efc1-4935-8dec-c183a5e1a402",
   "metadata": {},
   "outputs": [],
   "source": []
  }
 ],
 "metadata": {
  "kernelspec": {
   "display_name": "Python 3 (ipykernel)",
   "language": "python",
   "name": "python3"
  },
  "language_info": {
   "codemirror_mode": {
    "name": "ipython",
    "version": 3
   },
   "file_extension": ".py",
   "mimetype": "text/x-python",
   "name": "python",
   "nbconvert_exporter": "python",
   "pygments_lexer": "ipython3",
   "version": "3.12.7"
  }
 },
 "nbformat": 4,
 "nbformat_minor": 5
}
